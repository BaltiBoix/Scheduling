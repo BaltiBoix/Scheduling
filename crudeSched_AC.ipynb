{
  "cells": [
    {
      "cell_type": "markdown",
      "metadata": {
        "id": "PyM8Vm0pc-GE"
      },
      "source": [
        "## 1. Entorno crudeSched"
      ]
    },
    {
      "cell_type": "markdown",
      "metadata": {
        "id": "NAwj1foPc-GF"
      },
      "source": [
        "### 1.1. Establecer el entorno"
      ]
    },
    {
      "cell_type": "markdown",
      "metadata": {
        "id": "WjnIDGG5c-GG"
      },
      "source": [
        "En primer lugar cargaremos la librería __gym__ e inicializaremos el entorno."
      ]
    },
    {
      "cell_type": "code",
      "source": [
        "if not ('isColab' in locals()):\n",
        "    if 'google.colab' in str(get_ipython()):\n",
        "        print('Running on CoLab')\n",
        "        !pip install gymnasium\n",
        "        !wget https://github.com/BaltiBoix/Scheduling/raw/master/tankEnv.py\n",
        "        isColab = True\n",
        "    else:\n",
        "        print('Not running on CoLab')"
      ],
      "metadata": {
        "id": "JumIio7aSB_2",
        "outputId": "343b7868-bbdf-4974-abdd-4b100a1126f1",
        "colab": {
          "base_uri": "https://localhost:8080/"
        }
      },
      "execution_count": 1,
      "outputs": [
        {
          "output_type": "stream",
          "name": "stdout",
          "text": [
            "Running on CoLab\n",
            "Looking in indexes: https://pypi.org/simple, https://us-python.pkg.dev/colab-wheels/public/simple/\n",
            "Requirement already satisfied: gymnasium in /usr/local/lib/python3.8/dist-packages (0.27.1)\n",
            "Requirement already satisfied: cloudpickle>=1.2.0 in /usr/local/lib/python3.8/dist-packages (from gymnasium) (2.2.1)\n",
            "Requirement already satisfied: typing-extensions>=4.3.0 in /usr/local/lib/python3.8/dist-packages (from gymnasium) (4.5.0)\n",
            "Requirement already satisfied: jax-jumpy>=0.2.0 in /usr/local/lib/python3.8/dist-packages (from gymnasium) (0.2.0)\n",
            "Requirement already satisfied: gymnasium-notices>=0.0.1 in /usr/local/lib/python3.8/dist-packages (from gymnasium) (0.0.1)\n",
            "Requirement already satisfied: numpy>=1.21.0 in /usr/local/lib/python3.8/dist-packages (from gymnasium) (1.21.6)\n",
            "Requirement already satisfied: importlib-metadata>=4.8.0 in /usr/local/lib/python3.8/dist-packages (from gymnasium) (6.0.0)\n",
            "Requirement already satisfied: zipp>=0.5 in /usr/local/lib/python3.8/dist-packages (from importlib-metadata>=4.8.0->gymnasium) (3.13.0)\n",
            "--2023-02-20 16:23:52--  https://github.com/BaltiBoix/Scheduling/raw/master/tankEnv.py\n",
            "Resolving github.com (github.com)... 140.82.113.4\n",
            "Connecting to github.com (github.com)|140.82.113.4|:443... connected.\n",
            "HTTP request sent, awaiting response... 302 Found\n",
            "Location: https://raw.githubusercontent.com/BaltiBoix/Scheduling/master/tankEnv.py [following]\n",
            "--2023-02-20 16:23:52--  https://raw.githubusercontent.com/BaltiBoix/Scheduling/master/tankEnv.py\n",
            "Resolving raw.githubusercontent.com (raw.githubusercontent.com)... 185.199.109.133, 185.199.110.133, 185.199.111.133, ...\n",
            "Connecting to raw.githubusercontent.com (raw.githubusercontent.com)|185.199.109.133|:443... connected.\n",
            "HTTP request sent, awaiting response... 200 OK\n",
            "Length: 22012 (21K) [text/plain]\n",
            "Saving to: ‘tankEnv.py.1’\n",
            "\n",
            "tankEnv.py.1        100%[===================>]  21.50K  --.-KB/s    in 0s      \n",
            "\n",
            "2023-02-20 16:23:52 (131 MB/s) - ‘tankEnv.py.1’ saved [22012/22012]\n",
            "\n"
          ]
        }
      ]
    },
    {
      "cell_type": "code",
      "execution_count": 1,
      "metadata": {
        "id": "44GG2cz6c-GH",
        "outputId": "8eeb0f59-2d2c-413c-bb51-cffe7aa326da",
        "colab": {
          "base_uri": "https://localhost:8080/"
        }
      },
      "outputs": [
        {
          "output_type": "stream",
          "name": "stderr",
          "text": [
            "/usr/local/lib/python3.8/dist-packages/gymnasium/envs/registration.py:435: UserWarning: \u001b[33mWARN: The environment creator metadata doesn't include `render_modes`, contains: ['render.modes']\u001b[0m\n",
            "  logger.warn(\n",
            "/usr/local/lib/python3.8/dist-packages/gymnasium/utils/passive_env_checker.py:35: UserWarning: \u001b[33mWARN: A Box observation space has an unconventional shape (neither an image, nor a 1D vector). We recommend flattening the observation to have only a 1D vector or use a custom policy to properly process the data. Actual observation shape: (2, 10)\u001b[0m\n",
            "  logger.warn(\n",
            "/usr/local/lib/python3.8/dist-packages/gymnasium/utils/passive_env_checker.py:35: UserWarning: \u001b[33mWARN: A Box observation space has an unconventional shape (neither an image, nor a 1D vector). We recommend flattening the observation to have only a 1D vector or use a custom policy to properly process the data. Actual observation shape: (2, 5)\u001b[0m\n",
            "  logger.warn(\n",
            "/usr/local/lib/python3.8/dist-packages/gymnasium/utils/passive_env_checker.py:35: UserWarning: \u001b[33mWARN: A Box observation space has an unconventional shape (neither an image, nor a 1D vector). We recommend flattening the observation to have only a 1D vector or use a custom policy to properly process the data. Actual observation shape: (7, 10)\u001b[0m\n",
            "  logger.warn(\n",
            "/usr/local/lib/python3.8/dist-packages/gymnasium/utils/passive_env_checker.py:35: UserWarning: \u001b[33mWARN: A Box observation space has an unconventional shape (neither an image, nor a 1D vector). We recommend flattening the observation to have only a 1D vector or use a custom policy to properly process the data. Actual observation shape: (7, 5)\u001b[0m\n",
            "  logger.warn(\n"
          ]
        }
      ],
      "source": [
        "import gymnasium as gym\n",
        "from gymnasium.spaces import flatten as flat\n",
        "import torch\n",
        "import numpy as np\n",
        "import matplotlib.pyplot as plt\n",
        "from copy import deepcopy, copy\n",
        "from collections import namedtuple, deque, OrderedDict\n",
        "import os\n",
        "import IPython.display\n",
        "import sklearn\n",
        "import sklearn.pipeline\n",
        "from sklearn.kernel_approximation import RBFSampler\n",
        "\n",
        "import tankEnv\n",
        "\n",
        "env = gym.envs.make('crudeTanksEnv-v0')"
      ]
    },
    {
      "cell_type": "code",
      "execution_count": 2,
      "metadata": {
        "colab": {
          "base_uri": "https://localhost:8080/"
        },
        "id": "lkjAHGpcc-GI",
        "outputId": "4fd288ae-b9e2-415e-d6df-832aebbbebc2"
      },
      "outputs": [
        {
          "output_type": "stream",
          "name": "stdout",
          "text": [
            "Is torch cuda available?: True\n"
          ]
        }
      ],
      "source": [
        "print('Is torch cuda available?: {}'.format(torch.cuda.is_available()))"
      ]
    },
    {
      "cell_type": "code",
      "execution_count": 3,
      "metadata": {
        "colab": {
          "base_uri": "https://localhost:8080/"
        },
        "id": "MdorKPAmQ0-4",
        "outputId": "35259e5f-87c4-432a-e1ae-5833e00645c4"
      },
      "outputs": [
        {
          "output_type": "execute_result",
          "data": {
            "text/plain": [
              "EnvSpec(id='crudeTanksEnv-v0', entry_point=<class 'tankEnv.crudeTanksEnv'>, reward_threshold=500, nondeterministic=False, max_episode_steps=720, order_enforce=True, autoreset=False, disable_env_checker=False, apply_api_compatibility=False, kwargs={}, namespace=None, name='crudeTanksEnv', version=0)"
            ]
          },
          "metadata": {},
          "execution_count": 3
        }
      ],
      "source": [
        "env.spec"
      ]
    },
    {
      "cell_type": "code",
      "execution_count": 4,
      "metadata": {
        "id": "xWJ4zbmNQ0-4"
      },
      "outputs": [],
      "source": [
        "class dStat():\n",
        "    def __init__(self, env, seed=None, scale=True):\n",
        "        self.dState = deque(maxlen=2)\n",
        "        self.env = env\n",
        "        self.seed = seed\n",
        "        self.scale = scale\n",
        "        if self.scale:\n",
        "            self.fitScaler()\n",
        "        else:\n",
        "            self.scaler = None\n",
        "        return\n",
        "    \n",
        "    def reset(self):\n",
        "        self.dState.clear()\n",
        "        state, data = self.env.reset(seed=self.seed)\n",
        "        self.dState.append(self.transform(state))\n",
        "        for _ in range(10):\n",
        "            action = self.env.action_space.sample()\n",
        "            if data['actionAvail'][0][action['farmTanks'][0]] and data['actionAvail'][1][action['farmTanks'][1]]:\n",
        "              break\n",
        "        self.dState[0] = np.append(self.dState[0], flat(self.env.action_space, action))\n",
        "        state, reward, done, _, info = self.env.step(action)\n",
        "        data['actionAvail'] = info['actionAvail']\n",
        "        self.dState.append(self.transform(state))\n",
        "        return np.append(*self.dState), data\n",
        "        \n",
        "    def step(self, action):\n",
        "        state, reward, done, truncated, info = self.env.step(action)\n",
        "        self.dState.append(self.transform(state))\n",
        "        self.dState[0] = np.append(self.dState[0], flat(self.env.action_space, action))\n",
        "        return np.append(*self.dState), reward, done, truncated, info\n",
        "    \n",
        "    def fitScaler(self):\n",
        "        observation_examples = np.array([flat(self.env.observation_space, self.env.observation_space.sample())\\\n",
        "                                         for x in range(10000)])\n",
        "        self.scaler = sklearn.preprocessing.StandardScaler()\n",
        "        self.scaler.fit(observation_examples)\n",
        "        return\n",
        "    \n",
        "    def transform(self, state):\n",
        "        if self.scaler is None:\n",
        "            return flat(self.env.observation_space, state)\n",
        "        return self.scaler.transform([flat(self.env.observation_space, state)])"
      ]
    },
    {
      "cell_type": "code",
      "execution_count": 5,
      "metadata": {
        "id": "_SfRbufVQ0-5"
      },
      "outputs": [],
      "source": [
        "dSt = dStat(env, scale=False)\n",
        "state, data = dSt.reset()\n",
        "stateShape = state.shape[0]"
      ]
    },
    {
      "cell_type": "markdown",
      "metadata": {
        "id": "_UA4SPt96-tH"
      },
      "source": [
        "## Actor-Critic method\n"
      ]
    },
    {
      "cell_type": "markdown",
      "metadata": {
        "id": "PmpmuawyAr66"
      },
      "source": [
        "Basado en el ejemplo de pytorch:  \n",
        "\n",
        "https://github.com/pytorch/examples/blob/main/reinforcement_learning/actor_critic.py"
      ]
    },
    {
      "cell_type": "code",
      "execution_count": 6,
      "metadata": {
        "id": "1tbKMQI-6-tU"
      },
      "outputs": [],
      "source": [
        "class AC_actor(torch.nn.Module):\n",
        "\n",
        "    def __init__(self, env, n_inputs, learning_rate=1e-3, device='cpu'):\n",
        "        \"\"\"\n",
        "        Actor ANN\n",
        "        \"\"\"\n",
        "        super(AC_actor, self).__init__()\n",
        "\n",
        "        self.n_inputs = n_inputs\n",
        "        self.learning_rate = learning_rate\n",
        "\n",
        "        if torch.cuda.is_available() and device=='cuda':\n",
        "            self.device = 'cuda'\n",
        "        else:\n",
        "            self.device = 'cpu'\n",
        "\n",
        "        self.learning_rate = learning_rate\n",
        "\n",
        "        # AC Actor\n",
        "        self.actor = torch.nn.Sequential(\n",
        "            torch.nn.Linear(self.n_inputs, 512, bias=True),\n",
        "            torch.nn.ReLU(),\n",
        "            torch.nn.Linear(512, 512, bias=True),\n",
        "            torch.nn.ReLU(),\n",
        "            torch.nn.Linear(512, 512, bias=True),\n",
        "            torch.nn.ReLU(),\n",
        "            torch.nn.Linear(512, 512, bias=True),\n",
        "            torch.nn.ReLU(),\n",
        "            torch.nn.Linear(512, 256, bias=True),\n",
        "            torch.nn.ReLU()       \n",
        "        )\n",
        "        self.actorC = torch.nn.Sequential(\n",
        "            torch.nn.Linear(256, 256, bias=True),\n",
        "            torch.nn.ReLU(),\n",
        "            torch.nn.Linear(256, 128, bias=True),\n",
        "            torch.nn.ReLU(),       \n",
        "            torch.nn.Linear(128, 1, bias=True),\n",
        "            torch.nn.Softplus()\n",
        "        )\n",
        "        self.actorD1 = torch.nn.Sequential(\n",
        "            torch.nn.Linear(256, 256, bias=True),\n",
        "            torch.nn.ReLU(),\n",
        "            torch.nn.Linear(256, 128, bias=True),\n",
        "            torch.nn.ReLU(),       \n",
        "            torch.nn.Linear(128, 13, bias=True),\n",
        "            torch.nn.Softmax(dim=-1)\n",
        "        )\n",
        "        self.actorD2 = torch.nn.Sequential(\n",
        "            torch.nn.Linear(256, 256, bias=True),\n",
        "            torch.nn.ReLU(),\n",
        "            torch.nn.Linear(256, 128, bias=True),\n",
        "            torch.nn.ReLU(),       \n",
        "            torch.nn.Linear(128, 6, bias=True),\n",
        "            torch.nn.Softmax(dim=-1)\n",
        "        )\n",
        "\n",
        "        if self.device == 'cuda':\n",
        "            self.actor.cuda()\n",
        "            self.actorC.cuda()\n",
        "            self.actorD1.cuda()\n",
        "            self.actorD2.cuda()\n",
        "        \n",
        "        self.register_parameter(name='lognu', param=torch.nn.Parameter(torch.tensor(0.1).to(device=self.device)))\n",
        "\n",
        "        self.optimizer = torch.optim.Adam(self.parameters(), lr=self.learning_rate)\n",
        "        # self.lr_sched = torch.optim.lr_scheduler.ReduceLROnPlateau(self.optimizer, mode='max', \n",
        "        #                                                            patience=200, factor=0.5, min_lr=0.0001, verbose=True)\n",
        "\n",
        "        # self.init_weights()\n",
        "\n",
        "    #Obtención de las probabilidades de las posibles acciones\n",
        "    def get_action(self, state):\n",
        "        state_t = torch.FloatTensor(state).to(device=self.device)\n",
        "        tmp = self.actor(state_t)\n",
        "        \n",
        "        mu = self.actorC(tmp)\n",
        "        if torch.isnan(mu):\n",
        "            mu = torch.tensor(1.0, device=self.device)\n",
        "            print('nan mu')\n",
        "        nu = torch.clamp(self.lognu.exp(), 1e-3, 2)\n",
        "        \n",
        "        return torch.distributions.Normal(mu, nu),\\\n",
        "               torch.distributions.Categorical(self.actorD1(tmp)),\\\n",
        "               torch.distributions.Categorical(self.actorD2(tmp))\n",
        "\n",
        "    def init_weights(self):\n",
        "        self.actor.apply(self.init_weights_)\n",
        "\n",
        "    def init_weights_(self, m):\n",
        "        if isinstance(m, torch.nn.Linear):\n",
        "            torch.nn.init.xavier_uniform_(m.weight)\n",
        "            m.bias.data.fill_(pow(5., -0.5))"
      ]
    },
    {
      "cell_type": "code",
      "execution_count": 7,
      "metadata": {
        "id": "pcVFk2oB-Idp"
      },
      "outputs": [],
      "source": [
        "class AC_critic(torch.nn.Module):\n",
        "\n",
        "    def __init__(self, env, n_inputs, learning_rate=1e-3, device='cpu'):\n",
        "        \"\"\"\n",
        "        Critic ANN\n",
        "        \"\"\"\n",
        "        super(AC_critic, self).__init__()\n",
        "\n",
        "        self.n_inputs = n_inputs\n",
        "        self.learning_rate = learning_rate\n",
        "\n",
        "        if torch.cuda.is_available() and device=='cuda':\n",
        "            self.device = 'cuda'\n",
        "        else:\n",
        "            self.device = 'cpu'\n",
        "\n",
        "        self.learning_rate = learning_rate\n",
        "\n",
        "        # AC Critic\n",
        "        self.critic = torch.nn.Sequential(\n",
        "            torch.nn.Linear(self.n_inputs, 512, bias=True),\n",
        "            torch.nn.ReLU(),\n",
        "            torch.nn.Linear(512, 512, bias=True),\n",
        "            torch.nn.ReLU(),\n",
        "            torch.nn.Linear(512, 512, bias=True),\n",
        "            torch.nn.ReLU(),\n",
        "            torch.nn.Linear(512, 512, bias=True),\n",
        "            torch.nn.ReLU(),\n",
        "            torch.nn.Linear(512, 256, bias=True),\n",
        "            torch.nn.ReLU(),\n",
        "            torch.nn.Linear(256, 128, bias=True),\n",
        "            torch.nn.ReLU(),\n",
        "            torch.nn.Linear(128, 1, bias=True)\n",
        "        )\n",
        "\n",
        "        if self.device == 'cuda':\n",
        "            self.critic.cuda()\n",
        "        \n",
        "        self.optimizer = torch.optim.Adam(self.parameters(), lr=self.learning_rate)\n",
        "        # self.lr_sched = torch.optim.lr_scheduler.ReduceLROnPlateau(self.optimizer, mode='max', \n",
        "        #                                                            patience=200, factor=0.5, min_lr=0.00001)\n",
        "    \n",
        "    def get_val(self, state):\n",
        "        state_t = torch.FloatTensor(state).to(device=self.device)\n",
        "        return self.critic(state_t)"
      ]
    },
    {
      "cell_type": "markdown",
      "metadata": {
        "id": "1psxD6vR6-tV"
      },
      "source": [
        "\n",
        "### Definición del agente\n"
      ]
    },
    {
      "cell_type": "code",
      "execution_count": 8,
      "metadata": {
        "id": "e1iFeZ8T6-tV"
      },
      "outputs": [],
      "source": [
        "class ACAgent:\n",
        "\n",
        "    def __init__(self, env, dnnet_actor, dnnet_critic, nblock=100):\n",
        "        \"\"\"\n",
        "        Params\n",
        "        ======\n",
        "        env: entorno\n",
        "        dnnetwork: clase con la red neuronal diseñada\n",
        "        nblock: bloque de los X últimos episodios de los que se calculará la media de recompensa\n",
        "        reward_threshold: umbral de recompensa definido en el entorno\n",
        "        \"\"\"\n",
        "        self.env = env\n",
        "        self.dnnet_actor = dnnet_actor\n",
        "        self.dnnet_critic = dnnet_critic\n",
        "        self.device = dnnet_actor.device\n",
        "        self.nblock = nblock\n",
        "        self.reward_threshold = env.spec.reward_threshold\n",
        "        self.initialize()\n",
        "\n",
        "    def initialize(self):\n",
        "        self.losses = []\n",
        "        self.update_loss = []\n",
        "        self.training_rewards = []\n",
        "        self.mean_training_rewards = []\n",
        "    ######\n",
        "\n",
        "    ## Entrenamiento\n",
        "    def train(self, gamma=0.99, max_episodes=2000):\n",
        "        self.gamma = gamma\n",
        "\n",
        "        episode = 0\n",
        "        self.mean_rewards = -1000.0\n",
        "        self.maxRewards = 0.0\n",
        "        training = True\n",
        "        print(\"Training...\")\n",
        "        epsilon = 0.0\n",
        "        epsilon_min = 0.0\n",
        "        dSt = dStat(env, seed=200560)\n",
        "        while training:\n",
        "            state0, data = dSt.reset()\n",
        "            actionAvail = data['actionAvail']\n",
        "            episode_rewards = []\n",
        "            episode_vals = []\n",
        "            episode_prob_logs = []\n",
        "            gamedone = False\n",
        "            t = 1\n",
        "            while gamedone == False:\n",
        "                cProb, d1Prob, d2Prob = self.dnnet_actor.get_action(state0)\n",
        "                cAction = cProb.sample()\n",
        "                cAction = torch.clamp(cAction, 0.1, 1.0)\n",
        "                #d1Prob = torch.distributions.Categorical(d1Prob.probs * torch.tensor(actionAvail[0], device=self.dnnet_actor.device))\n",
        "                #d2Prob = torch.distributions.Categorical(d2Prob.probs * torch.tensor(actionAvail[1], device=self.dnnet_actor.device))\n",
        "                if actionAvail[0].any():\n",
        "                    d1Prob.probs = d1Prob.probs * torch.tensor(actionAvail[0]+1E-5, device=self.dnnet_actor.device)\n",
        "                if actionAvail[1].any():\n",
        "                    d2Prob.probs = d2Prob.probs * torch.tensor(actionAvail[1]+1E-5, device=self.dnnet_actor.device)\n",
        "                d1Action = d1Prob.sample()\n",
        "                d2Action = d2Prob.sample()\n",
        "                if np.random.random() < epsilon:\n",
        "                    for _ in range(10): \n",
        "                        action = env.action_space.sample() # acción aleatoria\n",
        "                        if actionAvail[0][action['farmTanks'][0]] and actionAvail[1][action['farmTanks'][1]]:\n",
        "                          break\n",
        "                    d1Action = torch.tensor(action['farmTanks'][0], device=self.dnnet_actor.device, dtype=torch.int)\n",
        "                    d2Action = torch.tensor(action['farmTanks'][1], device=self.dnnet_actor.device, dtype=torch.int)\n",
        "                    action['unitFeed'] = np.array([cAction.item()])\n",
        "                    #cAction = torch.tensor(action['unitFeed'], device=self.dnnet_actor.device, dtype=torch.int)\n",
        "                else:\n",
        "                    action = OrderedDict({'farmTanks': np.array([d1Action.item(), d2Action.item()]),\n",
        "                                          'unitFeed': np.array([cAction.item()])})\n",
        "                \n",
        "                val = self.dnnet_critic.get_val(state0)\n",
        "                episode_vals.append(val)\n",
        "                \n",
        "                prob_log = cProb.log_prob(cAction) + d1Prob.log_prob(d1Action) + d2Prob.log_prob(d2Action)\n",
        "                episode_prob_logs.append(prob_log)\n",
        "\n",
        "                new_state, reward, gamedone, _, info = dSt.step(action)\n",
        "                actionAvail = info['actionAvail']\n",
        "                \n",
        "                # Almacenamos experiencias que se van obteniendo en este episodio\n",
        "                episode_rewards.append(reward)\n",
        "\n",
        "                state0 = deepcopy(new_state)\n",
        "                t += 1\n",
        "\n",
        "            episode += 1\n",
        "            n_steps = len(episode_rewards)\n",
        "            \n",
        "            episode_discounted_rewards = torch.tensor(self.discount_rewards(episode_rewards), device=self.dnnet_critic.device, dtype=torch.float)\n",
        "\n",
        "            self.dnnet_actor.optimizer.zero_grad()\n",
        "            self.dnnet_critic.optimizer.zero_grad()\n",
        "\n",
        "            advantage = episode_discounted_rewards - torch.cat(episode_vals)\n",
        "\n",
        "            loss_actor = -(torch.stack(episode_prob_logs) * advantage.detach()).mean()\n",
        "\n",
        "            loss_critic = advantage.square().mean()\n",
        "\n",
        "            loss_actor.backward() # hacemos la diferencia para obtener los gradientes\n",
        "            loss_critic.backward() # hacemos la diferencia para obtener los gradientes\n",
        "\n",
        "            self.dnnet_actor.optimizer.step() # aplicamos los gradientes a la red neuronal\n",
        "#             self.dnnet_actor.lr_sched.step(self.mean_rewards)\n",
        "\n",
        "            self.dnnet_critic.optimizer.step() # aplicamos los gradientes a la red neuronal\n",
        "#             self.dnnet_critic.lr_sched.step(self.mean_rewards)\n",
        "\n",
        "            self.training_rewards.append(sum(episode_rewards)) # guardamos las recompensas obtenidas\n",
        "            self.mean_rewards = np.mean(self.training_rewards[-self.nblock:])\n",
        "            self.mean_training_rewards.append(self.mean_rewards)\n",
        "\n",
        "            if self.training_rewards[-1] > self.maxRewards:\n",
        "                self.maxRewards = self.training_rewards[-1]\n",
        "                self.maxS = deepcopy(env.S)\n",
        "\n",
        "            # Comprobamos que todavía quedan episodios\n",
        "            if episode >= max_episodes:\n",
        "                training = False\n",
        "                print('\\nEpisode limit reached.')\n",
        "                break\n",
        "\n",
        "            if episode > 100 and episode % 100 == 0:\n",
        "                self.plot_rewards()\n",
        "\n",
        "            print(\"\\rEpisode {:3d} Mean Rewards {:.2f} Last Reward {:.2f} n steps {:3d}  epsilon {:.3f}\\t\\t\".format(\n",
        "                episode, self.mean_rewards, np.mean(self.training_rewards[-1]), n_steps+1, epsilon), end=\"\")\n",
        "\n",
        "            epsilon = max(epsilon*0.995, epsilon_min)\n",
        "            \n",
        "            # Termina el juego si la media de recompensas ha llegado al umbral fijado para este juego\n",
        "            if self.mean_rewards >= self.reward_threshold and episode > 4*self.nblock:\n",
        "                training = False\n",
        "                print('\\nEnvironment solved in {} episodes!'.format(\n",
        "                    episode))\n",
        "                break\n",
        "\n",
        "    def discount_rewards(self, rewards):\n",
        "        discount_r = np.zeros_like(rewards)\n",
        "        timesteps = range(len(rewards))\n",
        "        reward_sum = 0\n",
        "        for i in reversed(timesteps):\n",
        "            reward_sum = rewards[i] + self.gamma*reward_sum\n",
        "            discount_r[i] = reward_sum\n",
        "        #(discount_r - np.mean(discount_r))/max(np.std(discount_r), np.finfo(np.float32).eps)\n",
        "        return (discount_r - np.mean(discount_r))/max(np.std(discount_r), np.finfo(np.float32).eps)\n",
        "        # return discount_r - np.mean(discount_r)\n",
        "\n",
        "    def plot_rewards(self):\n",
        "       \n",
        "        IPython.display.clear_output(wait=True)\n",
        "\n",
        "        plt.figure(figsize=(12,8))\n",
        "        plt.plot(self.training_rewards, label='Rewards')\n",
        "        plt.plot(self.mean_training_rewards, label='Mean Rewards')\n",
        "        plt.axhline(self.env.spec.reward_threshold, color='r', label=\"Reward threshold\")\n",
        "        plt.xlabel('Episodes')\n",
        "        plt.ylabel('Rewards')\n",
        "        plt.legend(loc=\"upper left\")\n",
        "        plt.grid()\n",
        "        plt.show()\n"
      ]
    },
    {
      "cell_type": "markdown",
      "metadata": {
        "id": "eYRA7DMb6-tX"
      },
      "source": [
        "### Entrenamiento\n"
      ]
    },
    {
      "cell_type": "code",
      "execution_count": 9,
      "metadata": {
        "id": "iL8iV_kM6-tX"
      },
      "outputs": [],
      "source": [
        "lr_actor = 1.E-5     #Velocidad de aprendizaje \n",
        "lr_critic = 5.E-4    #Velocidad de aprendizaje \n",
        "GAMMA = 0.99         #Valor gamma de la ecuación de Bellman\n",
        "NBLOCK = 100         #Número de steps para rellenar el buffer\n",
        "MAX_EPISODES = 5000  #Número máximo de episodios (el agente debe aprender antes de llegar a este valor)\n"
      ]
    },
    {
      "cell_type": "code",
      "execution_count": 10,
      "metadata": {
        "id": "UTAxECge6-tX"
      },
      "outputs": [],
      "source": [
        "ACa = AC_actor(env, stateShape, learning_rate=lr_actor, device='cuda')"
      ]
    },
    {
      "cell_type": "code",
      "execution_count": 11,
      "metadata": {
        "id": "ctVGWP0tAxGK"
      },
      "outputs": [],
      "source": [
        "ACc = AC_critic(env, stateShape, learning_rate=lr_critic, device='cuda')"
      ]
    },
    {
      "cell_type": "code",
      "execution_count": 12,
      "metadata": {
        "id": "4OEDtMh06-tX"
      },
      "outputs": [],
      "source": [
        "AC_agent = ACAgent(env, ACa, ACc, NBLOCK)"
      ]
    },
    {
      "cell_type": "code",
      "execution_count": 13,
      "metadata": {
        "colab": {
          "base_uri": "https://localhost:8080/",
          "height": 912
        },
        "id": "uEZfeX5A6-tY",
        "outputId": "352cc019-2745-4d41-b9b9-cdb990c0582a"
      },
      "outputs": [
        {
          "output_type": "display_data",
          "data": {
            "text/plain": [
              "<Figure size 864x576 with 1 Axes>"
            ],
            "image/png": "[encoded data removed]"
          },
          "metadata": {
            "needs_background": "light"
          }
        },
        {
          "output_type": "stream",
          "name": "stdout",
          "text": [
            "Episode 1067 Mean Rewards -86.79 Last Reward -87.30 n steps 720  epsilon 0.000\t\t"
          ]
        },
        {
          "output_type": "error",
          "ename": "KeyboardInterrupt",
          "evalue": "ignored",
          "traceback": [
            "\u001b[0;31m---------------------------------------------------------------------------\u001b[0m",
            "\u001b[0;31mKeyboardInterrupt\u001b[0m                         Traceback (most recent call last)",
            "\u001b[0;32m<timed eval>\u001b[0m in \u001b[0;36m<module>\u001b[0;34m\u001b[0m\n",
            "\u001b[0;32m<ipython-input-8-da5ed35de944>\u001b[0m in \u001b[0;36mtrain\u001b[0;34m(self, gamma, max_episodes)\u001b[0m\n\u001b[1;32m     46\u001b[0m             \u001b[0mt\u001b[0m \u001b[0;34m=\u001b[0m \u001b[0;36m1\u001b[0m\u001b[0;34m\u001b[0m\u001b[0;34m\u001b[0m\u001b[0m\n\u001b[1;32m     47\u001b[0m             \u001b[0;32mwhile\u001b[0m \u001b[0mgamedone\u001b[0m \u001b[0;34m==\u001b[0m \u001b[0;32mFalse\u001b[0m\u001b[0;34m:\u001b[0m\u001b[0;34m\u001b[0m\u001b[0;34m\u001b[0m\u001b[0m\n\u001b[0;32m---> 48\u001b[0;31m                 \u001b[0mcProb\u001b[0m\u001b[0;34m,\u001b[0m \u001b[0md1Prob\u001b[0m\u001b[0;34m,\u001b[0m \u001b[0md2Prob\u001b[0m \u001b[0;34m=\u001b[0m \u001b[0mself\u001b[0m\u001b[0;34m.\u001b[0m\u001b[0mdnnet_actor\u001b[0m\u001b[0;34m.\u001b[0m\u001b[0mget_action\u001b[0m\u001b[0;34m(\u001b[0m\u001b[0mstate0\u001b[0m\u001b[0;34m)\u001b[0m\u001b[0;34m\u001b[0m\u001b[0;34m\u001b[0m\u001b[0m\n\u001b[0m\u001b[1;32m     49\u001b[0m                 \u001b[0mcAction\u001b[0m \u001b[0;34m=\u001b[0m \u001b[0mcProb\u001b[0m\u001b[0;34m.\u001b[0m\u001b[0msample\u001b[0m\u001b[0;34m(\u001b[0m\u001b[0;34m)\u001b[0m\u001b[0;34m\u001b[0m\u001b[0;34m\u001b[0m\u001b[0m\n\u001b[1;32m     50\u001b[0m                 \u001b[0mcAction\u001b[0m \u001b[0;34m=\u001b[0m \u001b[0mtorch\u001b[0m\u001b[0;34m.\u001b[0m\u001b[0mclamp\u001b[0m\u001b[0;34m(\u001b[0m\u001b[0mcAction\u001b[0m\u001b[0;34m,\u001b[0m \u001b[0;36m0.1\u001b[0m\u001b[0;34m,\u001b[0m \u001b[0;36m1.0\u001b[0m\u001b[0;34m)\u001b[0m\u001b[0;34m\u001b[0m\u001b[0;34m\u001b[0m\u001b[0m\n",
            "\u001b[0;32m<ipython-input-6-fbecfa22e27b>\u001b[0m in \u001b[0;36mget_action\u001b[0;34m(self, state)\u001b[0m\n\u001b[1;32m     81\u001b[0m \u001b[0;34m\u001b[0m\u001b[0m\n\u001b[1;32m     82\u001b[0m         \u001b[0;32mreturn\u001b[0m \u001b[0mtorch\u001b[0m\u001b[0;34m.\u001b[0m\u001b[0mdistributions\u001b[0m\u001b[0;34m.\u001b[0m\u001b[0mNormal\u001b[0m\u001b[0;34m(\u001b[0m\u001b[0mmu\u001b[0m\u001b[0;34m,\u001b[0m \u001b[0mnu\u001b[0m\u001b[0;34m)\u001b[0m\u001b[0;34m,\u001b[0m\u001b[0;31m\\\u001b[0m\u001b[0;34m\u001b[0m\u001b[0;34m\u001b[0m\u001b[0m\n\u001b[0;32m---> 83\u001b[0;31m                \u001b[0mtorch\u001b[0m\u001b[0;34m.\u001b[0m\u001b[0mdistributions\u001b[0m\u001b[0;34m.\u001b[0m\u001b[0mCategorical\u001b[0m\u001b[0;34m(\u001b[0m\u001b[0mself\u001b[0m\u001b[0;34m.\u001b[0m\u001b[0mactorD1\u001b[0m\u001b[0;34m(\u001b[0m\u001b[0mtmp\u001b[0m\u001b[0;34m)\u001b[0m\u001b[0;34m)\u001b[0m\u001b[0;34m,\u001b[0m\u001b[0;31m\\\u001b[0m\u001b[0;34m\u001b[0m\u001b[0;34m\u001b[0m\u001b[0m\n\u001b[0m\u001b[1;32m     84\u001b[0m                \u001b[0mtorch\u001b[0m\u001b[0;34m.\u001b[0m\u001b[0mdistributions\u001b[0m\u001b[0;34m.\u001b[0m\u001b[0mCategorical\u001b[0m\u001b[0;34m(\u001b[0m\u001b[0mself\u001b[0m\u001b[0;34m.\u001b[0m\u001b[0mactorD2\u001b[0m\u001b[0;34m(\u001b[0m\u001b[0mtmp\u001b[0m\u001b[0;34m)\u001b[0m\u001b[0;34m)\u001b[0m\u001b[0;34m\u001b[0m\u001b[0;34m\u001b[0m\u001b[0m\n\u001b[1;32m     85\u001b[0m \u001b[0;34m\u001b[0m\u001b[0m\n",
            "\u001b[0;32m/usr/local/lib/python3.8/dist-packages/torch/distributions/categorical.py\u001b[0m in \u001b[0;36m__init__\u001b[0;34m(self, probs, logits, validate_args)\u001b[0m\n\u001b[1;32m     64\u001b[0m         \u001b[0mself\u001b[0m\u001b[0;34m.\u001b[0m\u001b[0m_num_events\u001b[0m \u001b[0;34m=\u001b[0m \u001b[0mself\u001b[0m\u001b[0;34m.\u001b[0m\u001b[0m_param\u001b[0m\u001b[0;34m.\u001b[0m\u001b[0msize\u001b[0m\u001b[0;34m(\u001b[0m\u001b[0;34m)\u001b[0m\u001b[0;34m[\u001b[0m\u001b[0;34m-\u001b[0m\u001b[0;36m1\u001b[0m\u001b[0;34m]\u001b[0m\u001b[0;34m\u001b[0m\u001b[0;34m\u001b[0m\u001b[0m\n\u001b[1;32m     65\u001b[0m         \u001b[0mbatch_shape\u001b[0m \u001b[0;34m=\u001b[0m \u001b[0mself\u001b[0m\u001b[0;34m.\u001b[0m\u001b[0m_param\u001b[0m\u001b[0;34m.\u001b[0m\u001b[0msize\u001b[0m\u001b[0;34m(\u001b[0m\u001b[0;34m)\u001b[0m\u001b[0;34m[\u001b[0m\u001b[0;34m:\u001b[0m\u001b[0;34m-\u001b[0m\u001b[0;36m1\u001b[0m\u001b[0;34m]\u001b[0m \u001b[0;32mif\u001b[0m \u001b[0mself\u001b[0m\u001b[0;34m.\u001b[0m\u001b[0m_param\u001b[0m\u001b[0;34m.\u001b[0m\u001b[0mndimension\u001b[0m\u001b[0;34m(\u001b[0m\u001b[0;34m)\u001b[0m \u001b[0;34m>\u001b[0m \u001b[0;36m1\u001b[0m \u001b[0;32melse\u001b[0m \u001b[0mtorch\u001b[0m\u001b[0;34m.\u001b[0m\u001b[0mSize\u001b[0m\u001b[0;34m(\u001b[0m\u001b[0;34m)\u001b[0m\u001b[0;34m\u001b[0m\u001b[0;34m\u001b[0m\u001b[0m\n\u001b[0;32m---> 66\u001b[0;31m         \u001b[0msuper\u001b[0m\u001b[0;34m(\u001b[0m\u001b[0mCategorical\u001b[0m\u001b[0;34m,\u001b[0m \u001b[0mself\u001b[0m\u001b[0;34m)\u001b[0m\u001b[0;34m.\u001b[0m\u001b[0m__init__\u001b[0m\u001b[0;34m(\u001b[0m\u001b[0mbatch_shape\u001b[0m\u001b[0;34m,\u001b[0m \u001b[0mvalidate_args\u001b[0m\u001b[0;34m=\u001b[0m\u001b[0mvalidate_args\u001b[0m\u001b[0;34m)\u001b[0m\u001b[0;34m\u001b[0m\u001b[0;34m\u001b[0m\u001b[0m\n\u001b[0m\u001b[1;32m     67\u001b[0m \u001b[0;34m\u001b[0m\u001b[0m\n\u001b[1;32m     68\u001b[0m     \u001b[0;32mdef\u001b[0m \u001b[0mexpand\u001b[0m\u001b[0;34m(\u001b[0m\u001b[0mself\u001b[0m\u001b[0;34m,\u001b[0m \u001b[0mbatch_shape\u001b[0m\u001b[0;34m,\u001b[0m \u001b[0m_instance\u001b[0m\u001b[0;34m=\u001b[0m\u001b[0;32mNone\u001b[0m\u001b[0;34m)\u001b[0m\u001b[0;34m:\u001b[0m\u001b[0;34m\u001b[0m\u001b[0;34m\u001b[0m\u001b[0m\n",
            "\u001b[0;32m/usr/local/lib/python3.8/dist-packages/torch/distributions/distribution.py\u001b[0m in \u001b[0;36m__init__\u001b[0;34m(self, batch_shape, event_shape, validate_args)\u001b[0m\n\u001b[1;32m     52\u001b[0m                     \u001b[0;32mcontinue\u001b[0m  \u001b[0;31m# skip checking lazily-constructed args\u001b[0m\u001b[0;34m\u001b[0m\u001b[0;34m\u001b[0m\u001b[0m\n\u001b[1;32m     53\u001b[0m                 \u001b[0mvalue\u001b[0m \u001b[0;34m=\u001b[0m \u001b[0mgetattr\u001b[0m\u001b[0;34m(\u001b[0m\u001b[0mself\u001b[0m\u001b[0;34m,\u001b[0m \u001b[0mparam\u001b[0m\u001b[0;34m)\u001b[0m\u001b[0;34m\u001b[0m\u001b[0;34m\u001b[0m\u001b[0m\n\u001b[0;32m---> 54\u001b[0;31m                 \u001b[0mvalid\u001b[0m \u001b[0;34m=\u001b[0m \u001b[0mconstraint\u001b[0m\u001b[0;34m.\u001b[0m\u001b[0mcheck\u001b[0m\u001b[0;34m(\u001b[0m\u001b[0mvalue\u001b[0m\u001b[0;34m)\u001b[0m\u001b[0;34m\u001b[0m\u001b[0;34m\u001b[0m\u001b[0m\n\u001b[0m\u001b[1;32m     55\u001b[0m                 \u001b[0;32mif\u001b[0m \u001b[0;32mnot\u001b[0m \u001b[0mvalid\u001b[0m\u001b[0;34m.\u001b[0m\u001b[0mall\u001b[0m\u001b[0;34m(\u001b[0m\u001b[0;34m)\u001b[0m\u001b[0;34m:\u001b[0m\u001b[0;34m\u001b[0m\u001b[0;34m\u001b[0m\u001b[0m\n\u001b[1;32m     56\u001b[0m                     raise ValueError(\n",
            "\u001b[0;32m/usr/local/lib/python3.8/dist-packages/torch/distributions/constraints.py\u001b[0m in \u001b[0;36mcheck\u001b[0;34m(self, value)\u001b[0m\n\u001b[1;32m    404\u001b[0m \u001b[0;34m\u001b[0m\u001b[0m\n\u001b[1;32m    405\u001b[0m     \u001b[0;32mdef\u001b[0m \u001b[0mcheck\u001b[0m\u001b[0;34m(\u001b[0m\u001b[0mself\u001b[0m\u001b[0;34m,\u001b[0m \u001b[0mvalue\u001b[0m\u001b[0;34m)\u001b[0m\u001b[0;34m:\u001b[0m\u001b[0;34m\u001b[0m\u001b[0;34m\u001b[0m\u001b[0m\n\u001b[0;32m--> 406\u001b[0;31m         \u001b[0;32mreturn\u001b[0m \u001b[0mtorch\u001b[0m\u001b[0;34m.\u001b[0m\u001b[0mall\u001b[0m\u001b[0;34m(\u001b[0m\u001b[0mvalue\u001b[0m \u001b[0;34m>=\u001b[0m \u001b[0;36m0\u001b[0m\u001b[0;34m,\u001b[0m \u001b[0mdim\u001b[0m\u001b[0;34m=\u001b[0m\u001b[0;34m-\u001b[0m\u001b[0;36m1\u001b[0m\u001b[0;34m)\u001b[0m \u001b[0;34m&\u001b[0m \u001b[0;34m(\u001b[0m\u001b[0;34m(\u001b[0m\u001b[0mvalue\u001b[0m\u001b[0;34m.\u001b[0m\u001b[0msum\u001b[0m\u001b[0;34m(\u001b[0m\u001b[0;34m-\u001b[0m\u001b[0;36m1\u001b[0m\u001b[0;34m)\u001b[0m \u001b[0;34m-\u001b[0m \u001b[0;36m1\u001b[0m\u001b[0;34m)\u001b[0m\u001b[0;34m.\u001b[0m\u001b[0mabs\u001b[0m\u001b[0;34m(\u001b[0m\u001b[0;34m)\u001b[0m \u001b[0;34m<\u001b[0m \u001b[0;36m1e-6\u001b[0m\u001b[0;34m)\u001b[0m\u001b[0;34m\u001b[0m\u001b[0;34m\u001b[0m\u001b[0m\n\u001b[0m\u001b[1;32m    407\u001b[0m \u001b[0;34m\u001b[0m\u001b[0m\n\u001b[1;32m    408\u001b[0m \u001b[0;34m\u001b[0m\u001b[0m\n",
            "\u001b[0;31mKeyboardInterrupt\u001b[0m: "
          ]
        }
      ],
      "source": [
        "%%time\n",
        "\n",
        "AC_agent.train(gamma=GAMMA, max_episodes=MAX_EPISODES)"
      ]
    },
    {
      "cell_type": "code",
      "execution_count": 15,
      "metadata": {
        "id": "j1RbpVEFQ0-9",
        "outputId": "198ae15e-8df5-4594-daff-d0dc82894cf2",
        "colab": {
          "base_uri": "https://localhost:8080/",
          "height": 165
        }
      },
      "outputs": [
        {
          "output_type": "error",
          "ename": "AttributeError",
          "evalue": "ignored",
          "traceback": [
            "\u001b[0;31m---------------------------------------------------------------------------\u001b[0m",
            "\u001b[0;31mAttributeError\u001b[0m                            Traceback (most recent call last)",
            "\u001b[0;32m<ipython-input-15-d7ae59b61bf2>\u001b[0m in \u001b[0;36m<module>\u001b[0;34m\u001b[0m\n\u001b[0;32m----> 1\u001b[0;31m \u001b[0mAC_agent\u001b[0m\u001b[0;34m.\u001b[0m\u001b[0mmaxS\u001b[0m\u001b[0;34m.\u001b[0m\u001b[0mrender\u001b[0m\u001b[0;34m(\u001b[0m\u001b[0;34m)\u001b[0m\u001b[0;34m\u001b[0m\u001b[0;34m\u001b[0m\u001b[0m\n\u001b[0m",
            "\u001b[0;31mAttributeError\u001b[0m: 'ACAgent' object has no attribute 'maxS'"
          ]
        }
      ],
      "source": [
        "AC_agent.maxS.render()"
      ]
    },
    {
      "cell_type": "code",
      "execution_count": null,
      "metadata": {
        "id": "OI0G9ycNQ0-9"
      },
      "outputs": [],
      "source": [
        "AC_agent.maxS.prodsLog[300]"
      ]
    },
    {
      "cell_type": "code",
      "execution_count": null,
      "metadata": {
        "id": "iJNdFGOUQ0-9"
      },
      "outputs": [],
      "source": [
        "AC_agent.plot_rewards()"
      ]
    },
    {
      "cell_type": "code",
      "execution_count": null,
      "metadata": {
        "id": "pK4g1sv1Q0-9"
      },
      "outputs": [],
      "source": [
        "myfile = 'agentACDT_Trained_Model.pth'\n",
        "if os.path.isfile(myfile):\n",
        "    os.remove(myfile)\n",
        "torch.save(ACa.state_dict(), myfile)"
      ]
    },
    {
      "cell_type": "code",
      "execution_count": null,
      "metadata": {
        "id": "Z-L7Px1ZQ0--"
      },
      "outputs": [],
      "source": [
        "%%time\n",
        "\n",
        "env = gym.envs.make(\"crudeTanksEnv-v0\")\n",
        "\n",
        "AC = AC_actor(env, 512, learning_rate=0.005, device='cuda')\n",
        "AC.load_state_dict(torch.load(myfile))\n",
        "\n",
        "state0 = flat(env.observation_space, env.reset()[0])\n",
        "done = False\n",
        "episode_reward = 0\n",
        "n = 0\n",
        "action_list = []\n",
        "while not done:\n",
        "    cProb, d1Prob, d2Prob = AC.get_action(state0)\n",
        "    cAction = cProb.sample()\n",
        "    cAction = torch.clamp(cAction, min=0.1, max=1.0)\n",
        "    d1Action = d1Prob.sample()\n",
        "    d2Action = d2Prob.sample()\n",
        "    action = OrderedDict({'farmTanks': np.array([d1Action.item(), d2Action.item()]),\n",
        "                          'unitFeed': np.array([cAction.item()])})\n",
        "    state, reward, done, _, _ = env.step(action)\n",
        "    state = flat(env.observation_space, state)\n",
        "    episode_reward += reward\n",
        "    n += 1\n",
        "    state0 = deepcopy(state)\n",
        "    if n >= env.spec.max_episode_steps:\n",
        "        done = True\n",
        "\n",
        "print('n: {:4d}   reward: {:4.2f}'.format(n, episode_reward))\n",
        "env.render()\n",
        "print('\\n')"
      ]
    },
    {
      "cell_type": "code",
      "execution_count": null,
      "metadata": {
        "id": "HlfidoUSQ0--"
      },
      "outputs": [],
      "source": [
        "list(AC.parameters())"
      ]
    },
    {
      "cell_type": "code",
      "execution_count": null,
      "metadata": {
        "id": "8jY2slc2Q0--"
      },
      "outputs": [],
      "source": [
        "%%time\n",
        "\n",
        "env = gym.envs.make(\"crudeTanksEnv-v0\")\n",
        "\n",
        "AC = AC_actor(env, 512, learning_rate=0.005, device='cuda')\n",
        "AC.load_state_dict(torch.load(myfile))\n",
        "\n",
        "reward_list = []\n",
        "n_list = []\n",
        "for n_episodes in range(20):\n",
        "    state0 = flat(env.observation_space, env.reset()[0])\n",
        "    done = False\n",
        "    episode_reward = 0\n",
        "    n = 0\n",
        "    action_list = []\n",
        "    while not done:\n",
        "        cProb, d1Prob, d2Prob = AC.get_action(state0)\n",
        "        cAction = cProb.sample()\n",
        "        d1Action = d1Prob.sample()\n",
        "        d2Action = d2Prob.sample()\n",
        "        action = OrderedDict({'farmTanks': np.array([d1Action.item(), d2Action.item()]),\n",
        "                              'unitFeed': np.array([cAction.item()])})\n",
        "        state, reward, done, _, _ = env.step(action)\n",
        "        state = flat(env.observation_space, state)\n",
        "        episode_reward += reward\n",
        "        n += 1\n",
        "        state0 = deepcopy(state)\n",
        "        if n >= env.spec.max_episode_steps:\n",
        "            done = True\n",
        "\n",
        "    print('{:2d} n: {:4d}   reward: {:4.2f}'.format(n_episodes+1, n, episode_reward))\n",
        "    reward_list.append(episode_reward)\n",
        "print('\\n')"
      ]
    },
    {
      "cell_type": "code",
      "execution_count": null,
      "metadata": {
        "id": "VF3V5G9_Q0--"
      },
      "outputs": [],
      "source": [
        "fig, ax = plt.subplots(figsize=(12, 5))\n",
        "\n",
        "fig.suptitle('Recompensa de 20 partidas con el modelo ajustado')\n",
        "\n",
        "ax.plot(reward_list)\n",
        "ax.axhline(y=env.spec.reward_threshold, color='r', linestyle='-')\n",
        "ax.set_xlabel('suma de recompensas de cada partida')\n",
        "ax.set_xticks(range(20))\n",
        "ax.grid()\n",
        "\n",
        "plt.show()"
      ]
    }
  ],
  "metadata": {
    "accelerator": "GPU",
    "colab": {
      "provenance": []
    },
    "gpuClass": "standard",
    "kernelspec": {
      "display_name": "rl",
      "language": "python",
      "name": "rl"
    },
    "language_info": {
      "codemirror_mode": {
        "name": "ipython",
        "version": 3
      },
      "file_extension": ".py",
      "mimetype": "text/x-python",
      "name": "python",
      "nbconvert_exporter": "python",
      "pygments_lexer": "ipython3",
      "version": "3.10.9"
    }
  },
  "nbformat": 4,
  "nbformat_minor": 0
}