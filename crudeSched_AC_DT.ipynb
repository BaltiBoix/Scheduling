{
 "cells": [
  {
   "cell_type": "markdown",
   "metadata": {
    "id": "E04Z1oI_c-GD"
   },
   "source": [
    "# Práctica\n",
    "\n",
    "Se utilizará el <i>framework</i> de __Pytorch__. "
   ]
  },
  {
   "cell_type": "markdown",
   "metadata": {
    "id": "PyM8Vm0pc-GE"
   },
   "source": [
    "## 1. Entorno Crude Scheduler"
   ]
  },
  {
   "cell_type": "markdown",
   "metadata": {
    "id": "NAwj1foPc-GF"
   },
   "source": [
    "### 1.1. Establecer el entorno"
   ]
  },
  {
   "cell_type": "markdown",
   "metadata": {
    "id": "WjnIDGG5c-GG"
   },
   "source": [
    "En primer lugar cargaremos la librería __gym__ e inicializaremos el entorno."
   ]
  },
  {
   "cell_type": "code",
   "execution_count": 1,
   "metadata": {
    "colab": {
     "base_uri": "https://localhost:8080/"
    },
    "gather": {
     "logged": 1676491508332
    },
    "id": "44GG2cz6c-GH",
    "outputId": "0400139c-300c-4b2d-997e-f1cf26008a53"
   },
   "outputs": [
    {
     "name": "stderr",
     "output_type": "stream",
     "text": [
      "/anaconda/envs/azureml_py38_PT_TF/lib/python3.8/site-packages/tqdm/auto.py:22: TqdmWarning: IProgress not found. Please update jupyter and ipywidgets. See https://ipywidgets.readthedocs.io/en/stable/user_install.html\n",
      "  from .autonotebook import tqdm as notebook_tqdm\n",
      "/anaconda/envs/azureml_py38_PT_TF/lib/python3.8/site-packages/gymnasium/utils/passive_env_checker.py:31: UserWarning: \u001b[33mWARN: A Box observation space has an unconventional shape (neither an image, nor a 1D vector). We recommend flattening the observation to have only a 1D vector or use a custom policy to properly process the data. Actual observation shape: (2, 10)\u001b[0m\n",
      "  logger.warn(\n",
      "/anaconda/envs/azureml_py38_PT_TF/lib/python3.8/site-packages/gymnasium/utils/passive_env_checker.py:31: UserWarning: \u001b[33mWARN: A Box observation space has an unconventional shape (neither an image, nor a 1D vector). We recommend flattening the observation to have only a 1D vector or use a custom policy to properly process the data. Actual observation shape: (2, 5)\u001b[0m\n",
      "  logger.warn(\n",
      "/anaconda/envs/azureml_py38_PT_TF/lib/python3.8/site-packages/gymnasium/utils/passive_env_checker.py:31: UserWarning: \u001b[33mWARN: A Box observation space has an unconventional shape (neither an image, nor a 1D vector). We recommend flattening the observation to have only a 1D vector or use a custom policy to properly process the data. Actual observation shape: (7, 10)\u001b[0m\n",
      "  logger.warn(\n",
      "/anaconda/envs/azureml_py38_PT_TF/lib/python3.8/site-packages/gymnasium/utils/passive_env_checker.py:31: UserWarning: \u001b[33mWARN: A Box observation space has an unconventional shape (neither an image, nor a 1D vector). We recommend flattening the observation to have only a 1D vector or use a custom policy to properly process the data. Actual observation shape: (7, 5)\u001b[0m\n",
      "  logger.warn(\n"
     ]
    }
   ],
   "source": [
    "import gymnasium as gym\n",
    "from gymnasium.spaces import flatten as flat\n",
    "import torch\n",
    "import numpy as np\n",
    "import matplotlib.pyplot as plt\n",
    "from copy import deepcopy, copy\n",
    "from collections import namedtuple, deque\n",
    "import os\n",
    "import IPython.display\n",
    "import sklearn\n",
    "import sklearn.pipeline\n",
    "from sklearn.kernel_approximation import RBFSampler\n",
    "\n",
    "from tankEnv import *\n",
    "\n",
    "env = gym.envs.make('crudeTanksEnv-v0')"
   ]
  },
  {
   "cell_type": "code",
   "execution_count": 2,
   "metadata": {
    "colab": {
     "base_uri": "https://localhost:8080/"
    },
    "gather": {
     "logged": 1676491508476
    },
    "id": "lkjAHGpcc-GI",
    "outputId": "96a1758f-e83e-4e28-d99a-82be5ea1b2f1"
   },
   "outputs": [
    {
     "name": "stdout",
     "output_type": "stream",
     "text": [
      "Is torch cuda available?: False\n"
     ]
    }
   ],
   "source": [
    "print('Is torch cuda available?: {}'.format(torch.cuda.is_available()))"
   ]
  },
  {
   "cell_type": "code",
   "execution_count": 3,
   "metadata": {
    "colab": {
     "base_uri": "https://localhost:8080/"
    },
    "gather": {
     "logged": 1676491508623
    },
    "id": "zxWyoDnXtyC9",
    "outputId": "0317685d-00a1-40a1-b894-2da8893e788b"
   },
   "outputs": [
    {
     "data": {
      "text/plain": [
       "EnvSpec(id='crudeTanksEnv-v0', entry_point=<class 'tankEnv.crudeTanksEnv'>, reward_threshold=850, nondeterministic=False, max_episode_steps=720, order_enforce=True, autoreset=False, disable_env_checker=False, apply_api_compatibility=False, kwargs={}, namespace=None, name='crudeTanksEnv', version=0)"
      ]
     },
     "execution_count": 3,
     "metadata": {},
     "output_type": "execute_result"
    }
   ],
   "source": [
    "env.spec"
   ]
  },
  {
   "cell_type": "markdown",
   "metadata": {
    "id": "nQ9nEBi4kenB"
   },
   "source": [
    "### Descripción del entorno"
   ]
  },
  {
   "cell_type": "markdown",
   "metadata": {
    "id": "Pok92qCzkenC"
   },
   "source": [
    "### Description  \n",
    "\n",
    "The Mountain Car MDP is a deterministic MDP that consists of a car placed stochastically at the bottom of a sinusoidal valley, with the only possible actions being the accelerations that can be applied to the car in either direction. The goal of the MDP is to strategically accelerate the car to reach the goal state on top of the right hill. There are two versions of the mountain car domain in gymnasium: one with discrete actions and one with continuous. This version is the one with continuous actions.\n",
    "\n",
    "This MDP first appeared in Andrew Moore’s PhD Thesis (1990)\n",
    "\n",
    "#### Observation Space  \n",
    "The observation is a ndarray with shape (2,) where the elements correspond to the following:\n",
    "\n",
    "Num Observation                              Min  Max   Unit\n",
    "\n",
    " 0  position of the car along the x-axis    -Inf  Inf   position (m)\n",
    "\n",
    " 1  velocity of the car                     -Inf  Inf   velocity (m/s)\n",
    "\n",
    "#### Action Space  \n",
    "The action is a ndarray with shape (1,), representing the directional force applied on the car. The action is clipped in the range [-1,1] and multiplied by a power of 0.0015.\n",
    "\n",
    "Transition Dynamics:\n",
    "Given an action, the mountain car follows the following transition dynamics:\n",
    "\n",
    "velocity<sub>t+1</sub> = velocity<sub>t+1</sub> + force * self.power - 0.0025 * cos(3 * position<sub>t</sub>)\n",
    "\n",
    "position<sub>t+1</sub> = position<sub>t</sub> + velocity<sub>t+1</sub>\n",
    "\n",
    "where force is the action clipped to the range [-1,1] and power is a constant 0.0015. The collisions at either end are inelastic with the velocity set to 0 upon collision with the wall. The position is clipped to the range [-1.2, 0.6] and velocity is clipped to the range [-0.07, 0.07].\n",
    "\n",
    "#### Reward  \n",
    "A negative reward of -0.1 * action<sup>2</sup> is received at each timestep to penalise for taking actions of large magnitude. If the mountain car reaches the goal then a positive reward of +100 is added to the negative reward for that timestep.\n",
    "\n",
    "#### Starting State  \n",
    "The position of the car is assigned a uniform random value in [-0.6 , -0.4]. The starting velocity of the car is always assigned to 0.\n",
    "\n",
    "#### Episode End  \n",
    "The episode ends if either of the following happens:\n",
    "\n",
    "Termination: The position of the car is greater than or equal to 0.45 (the goal position on top of the right hill)\n",
    "\n",
    "Truncation: The length of the episode is 999."
   ]
  },
  {
   "cell_type": "code",
   "execution_count": 4,
   "metadata": {
    "colab": {
     "base_uri": "https://localhost:8080/"
    },
    "gather": {
     "logged": 1676491511889
    },
    "id": "72c_16jwqFQl",
    "outputId": "0ce7234e-54d6-4e41-d6bc-7e812fb25b0a"
   },
   "outputs": [
    {
     "data": {
      "text/html": [
       "<style>#sk-container-id-1 {color: black;background-color: white;}#sk-container-id-1 pre{padding: 0;}#sk-container-id-1 div.sk-toggleable {background-color: white;}#sk-container-id-1 label.sk-toggleable__label {cursor: pointer;display: block;width: 100%;margin-bottom: 0;padding: 0.3em;box-sizing: border-box;text-align: center;}#sk-container-id-1 label.sk-toggleable__label-arrow:before {content: \"▸\";float: left;margin-right: 0.25em;color: #696969;}#sk-container-id-1 label.sk-toggleable__label-arrow:hover:before {color: black;}#sk-container-id-1 div.sk-estimator:hover label.sk-toggleable__label-arrow:before {color: black;}#sk-container-id-1 div.sk-toggleable__content {max-height: 0;max-width: 0;overflow: hidden;text-align: left;background-color: #f0f8ff;}#sk-container-id-1 div.sk-toggleable__content pre {margin: 0.2em;color: black;border-radius: 0.25em;background-color: #f0f8ff;}#sk-container-id-1 input.sk-toggleable__control:checked~div.sk-toggleable__content {max-height: 200px;max-width: 100%;overflow: auto;}#sk-container-id-1 input.sk-toggleable__control:checked~label.sk-toggleable__label-arrow:before {content: \"▾\";}#sk-container-id-1 div.sk-estimator input.sk-toggleable__control:checked~label.sk-toggleable__label {background-color: #d4ebff;}#sk-container-id-1 div.sk-label input.sk-toggleable__control:checked~label.sk-toggleable__label {background-color: #d4ebff;}#sk-container-id-1 input.sk-hidden--visually {border: 0;clip: rect(1px 1px 1px 1px);clip: rect(1px, 1px, 1px, 1px);height: 1px;margin: -1px;overflow: hidden;padding: 0;position: absolute;width: 1px;}#sk-container-id-1 div.sk-estimator {font-family: monospace;background-color: #f0f8ff;border: 1px dotted black;border-radius: 0.25em;box-sizing: border-box;margin-bottom: 0.5em;}#sk-container-id-1 div.sk-estimator:hover {background-color: #d4ebff;}#sk-container-id-1 div.sk-parallel-item::after {content: \"\";width: 100%;border-bottom: 1px solid gray;flex-grow: 1;}#sk-container-id-1 div.sk-label:hover label.sk-toggleable__label {background-color: #d4ebff;}#sk-container-id-1 div.sk-serial::before {content: \"\";position: absolute;border-left: 1px solid gray;box-sizing: border-box;top: 0;bottom: 0;left: 50%;z-index: 0;}#sk-container-id-1 div.sk-serial {display: flex;flex-direction: column;align-items: center;background-color: white;padding-right: 0.2em;padding-left: 0.2em;position: relative;}#sk-container-id-1 div.sk-item {position: relative;z-index: 1;}#sk-container-id-1 div.sk-parallel {display: flex;align-items: stretch;justify-content: center;background-color: white;position: relative;}#sk-container-id-1 div.sk-item::before, #sk-container-id-1 div.sk-parallel-item::before {content: \"\";position: absolute;border-left: 1px solid gray;box-sizing: border-box;top: 0;bottom: 0;left: 50%;z-index: -1;}#sk-container-id-1 div.sk-parallel-item {display: flex;flex-direction: column;z-index: 1;position: relative;background-color: white;}#sk-container-id-1 div.sk-parallel-item:first-child::after {align-self: flex-end;width: 50%;}#sk-container-id-1 div.sk-parallel-item:last-child::after {align-self: flex-start;width: 50%;}#sk-container-id-1 div.sk-parallel-item:only-child::after {width: 0;}#sk-container-id-1 div.sk-dashed-wrapped {border: 1px dashed gray;margin: 0 0.4em 0.5em 0.4em;box-sizing: border-box;padding-bottom: 0.4em;background-color: white;}#sk-container-id-1 div.sk-label label {font-family: monospace;font-weight: bold;display: inline-block;line-height: 1.2em;}#sk-container-id-1 div.sk-label-container {text-align: center;}#sk-container-id-1 div.sk-container {/* jupyter's `normalize.less` sets `[hidden] { display: none; }` but bootstrap.min.css set `[hidden] { display: none !important; }` so we also need the `!important` here to be able to override the default hidden behavior on the sphinx rendered scikit-learn.org. See: https://github.com/scikit-learn/scikit-learn/issues/21755 */display: inline-block !important;position: relative;}#sk-container-id-1 div.sk-text-repr-fallback {display: none;}</style><div id=\"sk-container-id-1\" class=\"sk-top-container\"><div class=\"sk-text-repr-fallback\"><pre>FeatureUnion(transformer_list=[(&#x27;rbf1&#x27;,\n",
       "                                RBFSampler(gamma=5.0, n_components=128)),\n",
       "                               (&#x27;rbf2&#x27;,\n",
       "                                RBFSampler(gamma=2.0, n_components=128)),\n",
       "                               (&#x27;rbf3&#x27;, RBFSampler(n_components=128)),\n",
       "                               (&#x27;rbf4&#x27;,\n",
       "                                RBFSampler(gamma=0.5, n_components=128))])</pre><b>In a Jupyter environment, please rerun this cell to show the HTML representation or trust the notebook. <br />On GitHub, the HTML representation is unable to render, please try loading this page with nbviewer.org.</b></div><div class=\"sk-container\" hidden><div class=\"sk-item sk-dashed-wrapped\"><div class=\"sk-label-container\"><div class=\"sk-label sk-toggleable\"><input class=\"sk-toggleable__control sk-hidden--visually\" id=\"sk-estimator-id-1\" type=\"checkbox\" ><label for=\"sk-estimator-id-1\" class=\"sk-toggleable__label sk-toggleable__label-arrow\">FeatureUnion</label><div class=\"sk-toggleable__content\"><pre>FeatureUnion(transformer_list=[(&#x27;rbf1&#x27;,\n",
       "                                RBFSampler(gamma=5.0, n_components=128)),\n",
       "                               (&#x27;rbf2&#x27;,\n",
       "                                RBFSampler(gamma=2.0, n_components=128)),\n",
       "                               (&#x27;rbf3&#x27;, RBFSampler(n_components=128)),\n",
       "                               (&#x27;rbf4&#x27;,\n",
       "                                RBFSampler(gamma=0.5, n_components=128))])</pre></div></div></div><div class=\"sk-parallel\"><div class=\"sk-parallel-item\"><div class=\"sk-item\"><div class=\"sk-label-container\"><div class=\"sk-label sk-toggleable\"><label>rbf1</label></div></div><div class=\"sk-serial\"><div class=\"sk-item\"><div class=\"sk-estimator sk-toggleable\"><input class=\"sk-toggleable__control sk-hidden--visually\" id=\"sk-estimator-id-2\" type=\"checkbox\" ><label for=\"sk-estimator-id-2\" class=\"sk-toggleable__label sk-toggleable__label-arrow\">RBFSampler</label><div class=\"sk-toggleable__content\"><pre>RBFSampler(gamma=5.0, n_components=128)</pre></div></div></div></div></div></div><div class=\"sk-parallel-item\"><div class=\"sk-item\"><div class=\"sk-label-container\"><div class=\"sk-label sk-toggleable\"><label>rbf2</label></div></div><div class=\"sk-serial\"><div class=\"sk-item\"><div class=\"sk-estimator sk-toggleable\"><input class=\"sk-toggleable__control sk-hidden--visually\" id=\"sk-estimator-id-3\" type=\"checkbox\" ><label for=\"sk-estimator-id-3\" class=\"sk-toggleable__label sk-toggleable__label-arrow\">RBFSampler</label><div class=\"sk-toggleable__content\"><pre>RBFSampler(gamma=2.0, n_components=128)</pre></div></div></div></div></div></div><div class=\"sk-parallel-item\"><div class=\"sk-item\"><div class=\"sk-label-container\"><div class=\"sk-label sk-toggleable\"><label>rbf3</label></div></div><div class=\"sk-serial\"><div class=\"sk-item\"><div class=\"sk-estimator sk-toggleable\"><input class=\"sk-toggleable__control sk-hidden--visually\" id=\"sk-estimator-id-4\" type=\"checkbox\" ><label for=\"sk-estimator-id-4\" class=\"sk-toggleable__label sk-toggleable__label-arrow\">RBFSampler</label><div class=\"sk-toggleable__content\"><pre>RBFSampler(n_components=128)</pre></div></div></div></div></div></div><div class=\"sk-parallel-item\"><div class=\"sk-item\"><div class=\"sk-label-container\"><div class=\"sk-label sk-toggleable\"><label>rbf4</label></div></div><div class=\"sk-serial\"><div class=\"sk-item\"><div class=\"sk-estimator sk-toggleable\"><input class=\"sk-toggleable__control sk-hidden--visually\" id=\"sk-estimator-id-5\" type=\"checkbox\" ><label for=\"sk-estimator-id-5\" class=\"sk-toggleable__label sk-toggleable__label-arrow\">RBFSampler</label><div class=\"sk-toggleable__content\"><pre>RBFSampler(gamma=0.5, n_components=128)</pre></div></div></div></div></div></div></div></div></div></div>"
      ],
      "text/plain": [
       "FeatureUnion(transformer_list=[('rbf1',\n",
       "                                RBFSampler(gamma=5.0, n_components=128)),\n",
       "                               ('rbf2',\n",
       "                                RBFSampler(gamma=2.0, n_components=128)),\n",
       "                               ('rbf3', RBFSampler(n_components=128)),\n",
       "                               ('rbf4',\n",
       "                                RBFSampler(gamma=0.5, n_components=128))])"
      ]
     },
     "execution_count": 4,
     "metadata": {},
     "output_type": "execute_result"
    }
   ],
   "source": [
    "# Feature Preprocessing: Normalize to zero mean and unit variance\n",
    "# We use a few samples from the observation space to do this\n",
    "observation_examples = np.array([flat(env.observation_space, env.observation_space.sample()) for x in range(10000)])\n",
    "scaler = sklearn.preprocessing.StandardScaler()\n",
    "scaler.fit(observation_examples)\n",
    "\n",
    "# Used to converte a state to a featurizes represenation.\n",
    "# We use RBF kernels with different variances to cover different parts of the space\n",
    "featurizer = sklearn.pipeline.FeatureUnion([\n",
    "        (\"rbf1\", RBFSampler(gamma=5.0, n_components=128)),\n",
    "        (\"rbf2\", RBFSampler(gamma=2.0, n_components=128)),\n",
    "        (\"rbf3\", RBFSampler(gamma=1.0, n_components=128)),\n",
    "        (\"rbf4\", RBFSampler(gamma=0.5, n_components=128))\n",
    "        ])\n",
    "featurizer.fit(scaler.transform(observation_examples))"
   ]
  },
  {
   "cell_type": "code",
   "execution_count": 5,
   "metadata": {
    "gather": {
     "logged": 1676491512058
    },
    "id": "vEGqlPLVqLpB"
   },
   "outputs": [],
   "source": [
    "def featurize_state(state):\n",
    "    \"\"\"\n",
    "    Returns the featurized representation for a state.\n",
    "    \"\"\"\n",
    "    scaled = scaler.transform([state])\n",
    "    featurized = featurizer.transform(scaled)\n",
    "    return featurized[0]"
   ]
  },
  {
   "cell_type": "code",
   "execution_count": 6,
   "metadata": {
    "gather": {
     "logged": 1676491512227
    }
   },
   "outputs": [
    {
     "data": {
      "text/plain": [
       "OrderedDict([('farmTanks', array([1, 4])), ('unitFeed', array(0.79683184))])"
      ]
     },
     "execution_count": 6,
     "metadata": {},
     "output_type": "execute_result"
    }
   ],
   "source": [
    "env.action_space.sample()"
   ]
  },
  {
   "cell_type": "markdown",
   "metadata": {
    "id": "_UA4SPt96-tH"
   },
   "source": [
    "## Actor-Critic method\n"
   ]
  },
  {
   "cell_type": "markdown",
   "metadata": {
    "id": "PmpmuawyAr66"
   },
   "source": [
    "Basado en el ejemplo de pytorch:  \n",
    "\n",
    "https://medium.com/geekculture/actor-critic-implementing-actor-critic-methods-82efb998c273"
   ]
  },
  {
   "cell_type": "code",
   "execution_count": 7,
   "metadata": {
    "gather": {
     "logged": 1676491512359
    },
    "id": "1tbKMQI-6-tU"
   },
   "outputs": [],
   "source": [
    "class AC_actor(torch.nn.Module):\n",
    "\n",
    "    def __init__(self, env, n_inputs, learning_rate=1e-3, device='cpu'):\n",
    "        \"\"\"\n",
    "        Actor ANN\n",
    "        \"\"\"\n",
    "        super(AC_actor, self).__init__()\n",
    "\n",
    "        self.n_inputs = n_inputs\n",
    "        self.learning_rate = learning_rate\n",
    "\n",
    "        if torch.cuda.is_available() and device=='cuda':\n",
    "            self.device = 'cuda'\n",
    "        else:\n",
    "            self.device = 'cpu'\n",
    "\n",
    "        self.learning_rate = learning_rate\n",
    "\n",
    "        # AC Actor\n",
    "        self.actor = torch.nn.Sequential(\n",
    "            torch.nn.Linear(self.n_inputs, 512, bias=True),\n",
    "            torch.nn.ReLU(),\n",
    "            torch.nn.Linear(512, 256, bias=True),\n",
    "            torch.nn.ReLU()       \n",
    "        )\n",
    "        self.actorC = torch.nn.Sequential(\n",
    "            torch.nn.Linear(256, 256, bias=True),\n",
    "            torch.nn.ReLU(),\n",
    "            torch.nn.Linear(256, 128, bias=True),\n",
    "            torch.nn.ReLU(),       \n",
    "            torch.nn.Linear(128, 1, bias=True),\n",
    "            torch.nn.Softplus()\n",
    "        )\n",
    "        self.actorD1 = torch.nn.Sequential(\n",
    "            torch.nn.Linear(256, 256, bias=True),\n",
    "            torch.nn.ReLU(),\n",
    "            torch.nn.Linear(256, 128, bias=True),\n",
    "            torch.nn.ReLU(),       \n",
    "            torch.nn.Linear(128, 13, bias=True),\n",
    "            torch.nn.Softmax(dim=-1)\n",
    "        )\n",
    "        self.actorD2 = torch.nn.Sequential(\n",
    "            torch.nn.Linear(256, 256, bias=True),\n",
    "            torch.nn.ReLU(),\n",
    "            torch.nn.Linear(256, 128, bias=True),\n",
    "            torch.nn.ReLU(),       \n",
    "            torch.nn.Linear(128, 6, bias=True),\n",
    "            torch.nn.Softmax(dim=-1)\n",
    "        )\n",
    "\n",
    "        if self.device == 'cuda':\n",
    "            self.actor.cuda()\n",
    "            self.actorC.cuda()\n",
    "            self.actorD1.cuda()\n",
    "            self.actorD2.cuda()\n",
    "        \n",
    "        self.register_parameter(name='lognu', param=torch.nn.Parameter(torch.tensor(0.1).to(device=self.device)))\n",
    "\n",
    "        self.optimizer = torch.optim.Adam(self.parameters(), lr=self.learning_rate)\n",
    "        # self.lr_sched = torch.optim.lr_scheduler.ReduceLROnPlateau(self.optimizer, mode='max', \n",
    "        #                                                            patience=200, factor=0.5, min_lr=0.0001, verbose=True)\n",
    "\n",
    "        # self.init_weights()\n",
    "\n",
    "    #Obtención de las probabilidades de las posibles acciones\n",
    "    def get_action(self, state):\n",
    "        state_t = torch.FloatTensor(featurize_state(state)).to(device=self.device)\n",
    "        tmp = self.actor(state_t)\n",
    "        \n",
    "        mu = self.actorC(tmp)\n",
    "        if torch.isnan(mu):\n",
    "            mu = torch.tensor(1.0, device=self.device)\n",
    "            print('nan mu')\n",
    "        nu = torch.clamp(self.lognu.exp(), 1e-3, 2)\n",
    "        \n",
    "        return torch.distributions.Normal(mu, nu),\\\n",
    "               torch.distributions.Categorical(self.actorD1(tmp)),\\\n",
    "               torch.distributions.Categorical(self.actorD2(tmp))\n",
    "\n",
    "    def init_weights(self):\n",
    "        self.actor.apply(self.init_weights_)\n",
    "\n",
    "    def init_weights_(self, m):\n",
    "        if isinstance(m, torch.nn.Linear):\n",
    "            torch.nn.init.xavier_uniform_(m.weight)\n",
    "            m.bias.data.fill_(pow(5., -0.5))"
   ]
  },
  {
   "cell_type": "code",
   "execution_count": 8,
   "metadata": {
    "gather": {
     "logged": 1676491512513
    },
    "id": "pcVFk2oB-Idp"
   },
   "outputs": [],
   "source": [
    "class AC_critic(torch.nn.Module):\n",
    "\n",
    "    def __init__(self, env, n_inputs, learning_rate=1e-3, device='cpu'):\n",
    "        \"\"\"\n",
    "        Critic ANN\n",
    "        \"\"\"\n",
    "        super(AC_critic, self).__init__()\n",
    "\n",
    "        self.n_inputs = n_inputs\n",
    "        self.learning_rate = learning_rate\n",
    "\n",
    "        if torch.cuda.is_available() and device=='cuda':\n",
    "            self.device = 'cuda'\n",
    "        else:\n",
    "            self.device = 'cpu'\n",
    "\n",
    "        self.learning_rate = learning_rate\n",
    "\n",
    "        # AC Critic\n",
    "        self.critic = torch.nn.Sequential(\n",
    "            torch.nn.Linear(self.n_inputs, 512, bias=True),\n",
    "            torch.nn.ReLU(),\n",
    "            torch.nn.Linear(512, 256, bias=True),\n",
    "            torch.nn.ReLU(),\n",
    "            torch.nn.Linear(256, 128, bias=True),\n",
    "            torch.nn.ReLU(),\n",
    "            torch.nn.Linear(128, 1, bias=True)\n",
    "        )\n",
    "\n",
    "        if self.device == 'cuda':\n",
    "            self.critic.cuda()\n",
    "        \n",
    "        self.optimizer = torch.optim.Adam(self.parameters(), lr=self.learning_rate)\n",
    "        # self.lr_sched = torch.optim.lr_scheduler.ReduceLROnPlateau(self.optimizer, mode='max', \n",
    "        #                                                            patience=200, factor=0.5, min_lr=0.00001)\n",
    "    \n",
    "    def get_val(self, state):\n",
    "        state_t = torch.FloatTensor(featurize_state(state)).to(device=self.device)\n",
    "        return self.critic(state_t)"
   ]
  },
  {
   "cell_type": "markdown",
   "metadata": {
    "id": "1psxD6vR6-tV"
   },
   "source": [
    "\n",
    "### Definición del agente\n"
   ]
  },
  {
   "cell_type": "code",
   "execution_count": 9,
   "metadata": {
    "gather": {
     "logged": 1676491512656
    },
    "id": "e1iFeZ8T6-tV"
   },
   "outputs": [],
   "source": [
    "class ACAgent:\n",
    "\n",
    "    def __init__(self, env, dnnet_actor, dnnet_critic, nblock=100):\n",
    "        \"\"\"\n",
    "        Params\n",
    "        ======\n",
    "        env: entorno\n",
    "        dnnetwork: clase con la red neuronal diseñada\n",
    "        nblock: bloque de los X últimos episodios de los que se calculará la media de recompensa\n",
    "        reward_threshold: umbral de recompensa definido en el entorno\n",
    "        \"\"\"\n",
    "        self.env = env\n",
    "        self.dnnet_actor = dnnet_actor\n",
    "        self.dnnet_critic = dnnet_critic\n",
    "        self.device = dnnet_actor.device\n",
    "        self.nblock = nblock\n",
    "        self.reward_threshold = env.spec.reward_threshold\n",
    "        self.initialize()\n",
    "\n",
    "    def initialize(self):\n",
    "        self.losses = []\n",
    "        self.update_loss = []\n",
    "        self.training_rewards = []\n",
    "        self.mean_training_rewards = []\n",
    "    ######\n",
    "\n",
    "    ## Entrenamiento\n",
    "    def train(self, gamma=0.99, max_episodes=2000):\n",
    "        self.gamma = gamma\n",
    "\n",
    "        episode = 0\n",
    "        self.mean_rewards = -1000.0\n",
    "        self.maxRewards = 0.0\n",
    "        training = True\n",
    "        epsilon_max = 0.05\n",
    "        epsilon_min = 0.001\n",
    "        epsilon = epsilon_max\n",
    "        print(\"Training...\")\n",
    "        while training:\n",
    "            state0, data = env.reset()\n",
    "            actionAvail = data['actionAvail']\n",
    "            state0 = flat(env.observation_space, state0)\n",
    "            episode_rewards = []\n",
    "            gamedone = False\n",
    "            t = 0\n",
    "            I = 1\n",
    "            while gamedone == False:\n",
    "                cProb, d1Prob, d2Prob = self.dnnet_actor.get_action(state0)\n",
    "                cAction = cProb.sample()\n",
    "                cAction = torch.clamp(cAction, 0.1, 1.0)\n",
    "                #d1Prob = torch.distributions.Categorical(d1Prob.probs * torch.tensor(actionAvail[0], device=self.dnnet_actor.device))\n",
    "                #d2Prob = torch.distributions.Categorical(d2Prob.probs * torch.tensor(actionAvail[1], device=self.dnnet_actor.device))\n",
    "                if actionAvail[0].any():\n",
    "                    d1Prob.probs = d1Prob.probs * torch.tensor(actionAvail[0]+1E-5, device=self.dnnet_actor.device)\n",
    "                if actionAvail[1].any():\n",
    "                    d2Prob.probs = d2Prob.probs * torch.tensor(actionAvail[1]+1E-5, device=self.dnnet_actor.device)\n",
    "                d1Action = d1Prob.sample()\n",
    "                d2Action = d2Prob.sample()\n",
    "                if np.random.random() < epsilon:\n",
    "                    action = env.action_space.sample() # acción aleatoria\n",
    "                    while not (actionAvail[0][action['farmTanks'][0]] and actionAvail[1][action['farmTanks'][1]]): \n",
    "                        action = env.action_space.sample() # acción aleatoria\n",
    "                    d1Action = torch.tensor(action['farmTanks'][0], device=self.dnnet_actor.device, dtype=torch.int)\n",
    "                    d2Action = torch.tensor(action['farmTanks'][1], device=self.dnnet_actor.device, dtype=torch.int)\n",
    "                    action['unitFeed'] = np.array([cAction.item()])\n",
    "                    #cAction = torch.tensor(action['unitFeed'], device=self.dnnet_actor.device, dtype=torch.int)\n",
    "                else:\n",
    "                    action = OrderedDict({'farmTanks': np.array([d1Action.item(), d2Action.item()]),\n",
    "                                          'unitFeed': np.array([cAction.item()])})\n",
    "                \n",
    "                val = self.dnnet_critic.get_val(state0)\n",
    "                \n",
    "                prob_log = cProb.log_prob(cAction) + d1Prob.log_prob(d1Action) + d2Prob.log_prob(d2Action)\n",
    "\n",
    "                new_state, reward, gamedone, _, info = env.step(action)\n",
    "                actionAvail = info['actionAvail']\n",
    "                new_state = flat(env.observation_space, new_state)\n",
    "                \n",
    "                # Almacenamos experiencias que se van obteniendo en este episodio\n",
    "                episode_rewards.append(reward)\n",
    "                \n",
    "                reward_t = torch.tensor([reward], device=self.device, dtype=torch.float)\n",
    "                new_val = self.dnnet_critic.get_val(new_state)\n",
    "                #if terminal state, next state val is 0\n",
    "                if gamedone:\n",
    "                    new_val = torch.tensor([0], device=self.device, dtype=torch.float)\n",
    "                    #if t < 700:\n",
    "                    #    print(action, actionAvail)\n",
    "                \n",
    "                #calculate value function loss with MSE\n",
    "                advantage = reward_t + self.gamma * new_val - val\n",
    "                loss_critic = advantage.square()\n",
    "                loss_critic *= I\n",
    "                \n",
    "                #calculate policy loss\n",
    "                loss_actor = -prob_log * advantage.detach()\n",
    "                loss_actor *= I\n",
    "                \n",
    "#                 if t % 100 == 0:\n",
    "#                     print(cProb.log_prob(cAction), d1Prob.log_prob(d1Action), d2Prob.log_prob(d2Action))\n",
    "                \n",
    "                #Backpropagate policy\n",
    "                self.dnnet_actor.optimizer.zero_grad()\n",
    "                loss_actor.backward()\n",
    "                torch.nn.utils.clip_grad_value_(self.dnnet_actor.parameters(), 10.0) \n",
    "\n",
    "                #Backpropagate value\n",
    "                self.dnnet_critic.optimizer.zero_grad()\n",
    "                loss_critic.backward()\n",
    "                torch.nn.utils.clip_grad_value_(self.dnnet_critic.parameters(), 10.0) \n",
    "\n",
    "                nActor, nCritic = self.norm2()\n",
    "                if t > 0:\n",
    "                    nActorMean = (nActorMean*t+nActor)/(t+1)\n",
    "                    nCriticMean = (nCriticMean*t+nCritic)/(t+1)                    \n",
    "                else:\n",
    "                    nActorMean = nActor\n",
    "                    nCriticMean = nCritic\n",
    "                \n",
    "                self.dnnet_actor.optimizer.step()\n",
    "                # self.dnnet_actor.lr_sched.step(self.mean_rewards)\n",
    "\n",
    "                self.dnnet_critic.optimizer.step()\n",
    "                # self.dnnet_critic.lr_sched.step(self.mean_rewards)\n",
    "\n",
    "                state0 = deepcopy(new_state)\n",
    "                I *= self.gamma\n",
    "                t += 1\n",
    "                \n",
    "\n",
    "            episode += 1\n",
    "\n",
    "            self.training_rewards.append(sum(episode_rewards)) # guardamos las recompensas obtenidas\n",
    "            self.mean_rewards = np.mean(self.training_rewards[-self.nblock:])\n",
    "            self.mean_training_rewards.append(self.mean_rewards)\n",
    "\n",
    "            if self.training_rewards[-1] > self.maxRewards:\n",
    "                self.maxRewards = self.training_rewards[-1]\n",
    "                self.maxS = deepcopy(env.S)\n",
    "            \n",
    "            # Comprobamos que todavía quedan episodios\n",
    "            if episode >= max_episodes:\n",
    "                training = False\n",
    "                print('\\nEpisode limit reached.')\n",
    "                break\n",
    "\n",
    "            epsilon = max(epsilon*0.99, epsilon_min)\n",
    "\n",
    "            if episode > 100 and episode % 100 == 0:\n",
    "                self.plot_rewards()\n",
    "\n",
    "            print(\"\\rEpisode {:3d} Mean Rewards {:.2f} Last Reward {:.2f}  n_steps {:3d} Epsilon {:.3f} \"\n",
    "                \"nActor {:.3f} nCritic {:.3f}\\t\\t\".format(\n",
    "                episode, self.mean_rewards, np.mean(self.training_rewards[-1]), t, epsilon, \n",
    "                nActorMean, nCriticMean), end=\"\")\n",
    "\n",
    "            # Termina el juego si la media de recompensas ha llegado al umbral fijado para este juego\n",
    "            if self.mean_rewards >= self.reward_threshold and episode > self.nblock:\n",
    "                training = False\n",
    "                print('\\nEnvironment solved in {} episodes!'.format(\n",
    "                    episode))\n",
    "                break\n",
    "\n",
    "    def plot_rewards(self):\n",
    "       \n",
    "        IPython.display.clear_output(wait=True)\n",
    "\n",
    "        plt.figure(figsize=(12,8))\n",
    "        plt.plot(self.training_rewards, label='Rewards')\n",
    "        plt.plot(self.mean_training_rewards, label='Mean Rewards')\n",
    "        plt.axhline(self.env.spec.reward_threshold, color='r', label=\"Reward threshold\")\n",
    "        plt.xlabel('Episodes')\n",
    "        plt.ylabel('Rewards')\n",
    "        plt.legend(loc=\"upper left\")\n",
    "        plt.grid()\n",
    "        plt.show()\n",
    "\n",
    "    def norm2(self):\n",
    "        norm = lambda parameters : torch.norm(torch.stack([torch.norm(p.grad.detach(), 2) for p in parameters]), 2)\n",
    "        pActor = self.dnnet_actor.parameters()\n",
    "        pCritic = self.dnnet_critic.parameters()\n",
    "        return norm(pActor), norm(pCritic)\n",
    "        "
   ]
  },
  {
   "cell_type": "markdown",
   "metadata": {
    "id": "eYRA7DMb6-tX"
   },
   "source": [
    "### Entrenamiento\n"
   ]
  },
  {
   "cell_type": "code",
   "execution_count": 10,
   "metadata": {
    "gather": {
     "logged": 1676491512821
    },
    "id": "iL8iV_kM6-tX"
   },
   "outputs": [],
   "source": [
    "lr_actor = 5.E-5     #Velocidad de aprendizaje   0.005\n",
    "lr_critic = 5.E-4    #Velocidad de aprendizaje   0.005\n",
    "GAMMA = 0.99         #Valor gamma de la ecuación de Bellman\n",
    "NBLOCK = 100         #Número de steps para rellenar el buffer\n",
    "MAX_EPISODES = 5000  #Número máximo de episodios (el agente debe aprender antes de llegar a este valor)"
   ]
  },
  {
   "cell_type": "code",
   "execution_count": 11,
   "metadata": {
    "gather": {
     "logged": 1676491512988
    },
    "id": "UTAxECge6-tX"
   },
   "outputs": [],
   "source": [
    "ACa = AC_actor(env, 512, learning_rate=lr_actor, device='cuda')"
   ]
  },
  {
   "cell_type": "code",
   "execution_count": 12,
   "metadata": {
    "gather": {
     "logged": 1676491513193
    },
    "id": "ctVGWP0tAxGK"
   },
   "outputs": [],
   "source": [
    "ACc = AC_critic(env, 512, learning_rate=lr_critic, device='cuda')"
   ]
  },
  {
   "cell_type": "code",
   "execution_count": 13,
   "metadata": {
    "gather": {
     "logged": 1676491513323
    },
    "id": "4OEDtMh06-tX"
   },
   "outputs": [],
   "source": [
    "AC_agent = ACAgent(env, ACa, ACc, NBLOCK)"
   ]
  },
  {
   "cell_type": "code",
   "execution_count": null,
   "metadata": {
    "colab": {
     "base_uri": "https://localhost:8080/",
     "height": 570
    },
    "id": "uEZfeX5A6-tY",
    "outputId": "af00d6ad-09e8-4084-bb94-6dabfe3f9835"
   },
   "outputs": [
    {
     "data": {
      "image/png": "[encoded data removed]",
      "text/plain": [
       "<Figure size 864x576 with 1 Axes>"
      ]
     },
     "metadata": {
      "needs_background": "light"
     },
     "output_type": "display_data"
    },
    {
     "name": "stdout",
     "output_type": "stream",
     "text": [
      "Episode 204 Mean Rewards 110.51 Last Reward 120.32  n_steps 228 Epsilon 0.006 nActor 3.527 nCritic 0.490\t\t\r",
      "Episode 206 Mean Rewards 110.26 Last Reward 83.54  n_steps 223 Epsilon 0.006 nActor 2.255 nCritic 0.494\t\t"
     ]
    },
    {
     "ename": "KeyboardInterrupt",
     "evalue": "",
     "output_type": "error",
     "traceback": [
      "\u001b[0;31m---------------------------------------------------------------------------\u001b[0m",
      "\u001b[0;31mKeyboardInterrupt\u001b[0m                         Traceback (most recent call last)",
      "File \u001b[0;32m<timed eval>:1\u001b[0m, in \u001b[0;36m<module>\u001b[0;34m\u001b[0m\n",
      "Input \u001b[0;32mIn [9]\u001b[0m, in \u001b[0;36mACAgent.train\u001b[0;34m(self, gamma, max_episodes)\u001b[0m\n\u001b[1;32m    117\u001b[0m     nActorMean \u001b[38;5;241m=\u001b[39m nActor\n\u001b[1;32m    118\u001b[0m     nCriticMean \u001b[38;5;241m=\u001b[39m nCritic\n\u001b[0;32m--> 120\u001b[0m \u001b[38;5;28;43mself\u001b[39;49m\u001b[38;5;241;43m.\u001b[39;49m\u001b[43mdnnet_actor\u001b[49m\u001b[38;5;241;43m.\u001b[39;49m\u001b[43moptimizer\u001b[49m\u001b[38;5;241;43m.\u001b[39;49m\u001b[43mstep\u001b[49m\u001b[43m(\u001b[49m\u001b[43m)\u001b[49m\n\u001b[1;32m    121\u001b[0m \u001b[38;5;66;03m# self.dnnet_actor.lr_sched.step(self.mean_rewards)\u001b[39;00m\n\u001b[1;32m    123\u001b[0m \u001b[38;5;28mself\u001b[39m\u001b[38;5;241m.\u001b[39mdnnet_critic\u001b[38;5;241m.\u001b[39moptimizer\u001b[38;5;241m.\u001b[39mstep()\n",
      "File \u001b[0;32m/anaconda/envs/azureml_py38_PT_TF/lib/python3.8/site-packages/torch/optim/optimizer.py:109\u001b[0m, in \u001b[0;36mOptimizer._hook_for_profile.<locals>.profile_hook_step.<locals>.wrapper\u001b[0;34m(*args, **kwargs)\u001b[0m\n\u001b[1;32m    107\u001b[0m profile_name \u001b[38;5;241m=\u001b[39m \u001b[38;5;124m\"\u001b[39m\u001b[38;5;124mOptimizer.step#\u001b[39m\u001b[38;5;132;01m{}\u001b[39;00m\u001b[38;5;124m.step\u001b[39m\u001b[38;5;124m\"\u001b[39m\u001b[38;5;241m.\u001b[39mformat(obj\u001b[38;5;241m.\u001b[39m\u001b[38;5;18m__class__\u001b[39m\u001b[38;5;241m.\u001b[39m\u001b[38;5;18m__name__\u001b[39m)\n\u001b[1;32m    108\u001b[0m \u001b[38;5;28;01mwith\u001b[39;00m torch\u001b[38;5;241m.\u001b[39mautograd\u001b[38;5;241m.\u001b[39mprofiler\u001b[38;5;241m.\u001b[39mrecord_function(profile_name):\n\u001b[0;32m--> 109\u001b[0m     \u001b[38;5;28;01mreturn\u001b[39;00m \u001b[43mfunc\u001b[49m\u001b[43m(\u001b[49m\u001b[38;5;241;43m*\u001b[39;49m\u001b[43margs\u001b[49m\u001b[43m,\u001b[49m\u001b[43m \u001b[49m\u001b[38;5;241;43m*\u001b[39;49m\u001b[38;5;241;43m*\u001b[39;49m\u001b[43mkwargs\u001b[49m\u001b[43m)\u001b[49m\n",
      "File \u001b[0;32m/anaconda/envs/azureml_py38_PT_TF/lib/python3.8/site-packages/torch/autograd/grad_mode.py:27\u001b[0m, in \u001b[0;36m_DecoratorContextManager.__call__.<locals>.decorate_context\u001b[0;34m(*args, **kwargs)\u001b[0m\n\u001b[1;32m     24\u001b[0m \u001b[38;5;129m@functools\u001b[39m\u001b[38;5;241m.\u001b[39mwraps(func)\n\u001b[1;32m     25\u001b[0m \u001b[38;5;28;01mdef\u001b[39;00m \u001b[38;5;21mdecorate_context\u001b[39m(\u001b[38;5;241m*\u001b[39margs, \u001b[38;5;241m*\u001b[39m\u001b[38;5;241m*\u001b[39mkwargs):\n\u001b[1;32m     26\u001b[0m     \u001b[38;5;28;01mwith\u001b[39;00m \u001b[38;5;28mself\u001b[39m\u001b[38;5;241m.\u001b[39mclone():\n\u001b[0;32m---> 27\u001b[0m         \u001b[38;5;28;01mreturn\u001b[39;00m \u001b[43mfunc\u001b[49m\u001b[43m(\u001b[49m\u001b[38;5;241;43m*\u001b[39;49m\u001b[43margs\u001b[49m\u001b[43m,\u001b[49m\u001b[43m \u001b[49m\u001b[38;5;241;43m*\u001b[39;49m\u001b[38;5;241;43m*\u001b[39;49m\u001b[43mkwargs\u001b[49m\u001b[43m)\u001b[49m\n",
      "File \u001b[0;32m/anaconda/envs/azureml_py38_PT_TF/lib/python3.8/site-packages/torch/optim/adam.py:157\u001b[0m, in \u001b[0;36mAdam.step\u001b[0;34m(self, closure)\u001b[0m\n\u001b[1;32m    153\u001b[0m                 max_exp_avg_sqs\u001b[38;5;241m.\u001b[39mappend(state[\u001b[38;5;124m'\u001b[39m\u001b[38;5;124mmax_exp_avg_sq\u001b[39m\u001b[38;5;124m'\u001b[39m])\n\u001b[1;32m    155\u001b[0m             state_steps\u001b[38;5;241m.\u001b[39mappend(state[\u001b[38;5;124m'\u001b[39m\u001b[38;5;124mstep\u001b[39m\u001b[38;5;124m'\u001b[39m])\n\u001b[0;32m--> 157\u001b[0m     \u001b[43madam\u001b[49m\u001b[43m(\u001b[49m\u001b[43mparams_with_grad\u001b[49m\u001b[43m,\u001b[49m\n\u001b[1;32m    158\u001b[0m \u001b[43m         \u001b[49m\u001b[43mgrads\u001b[49m\u001b[43m,\u001b[49m\n\u001b[1;32m    159\u001b[0m \u001b[43m         \u001b[49m\u001b[43mexp_avgs\u001b[49m\u001b[43m,\u001b[49m\n\u001b[1;32m    160\u001b[0m \u001b[43m         \u001b[49m\u001b[43mexp_avg_sqs\u001b[49m\u001b[43m,\u001b[49m\n\u001b[1;32m    161\u001b[0m \u001b[43m         \u001b[49m\u001b[43mmax_exp_avg_sqs\u001b[49m\u001b[43m,\u001b[49m\n\u001b[1;32m    162\u001b[0m \u001b[43m         \u001b[49m\u001b[43mstate_steps\u001b[49m\u001b[43m,\u001b[49m\n\u001b[1;32m    163\u001b[0m \u001b[43m         \u001b[49m\u001b[43mamsgrad\u001b[49m\u001b[38;5;241;43m=\u001b[39;49m\u001b[43mgroup\u001b[49m\u001b[43m[\u001b[49m\u001b[38;5;124;43m'\u001b[39;49m\u001b[38;5;124;43mamsgrad\u001b[39;49m\u001b[38;5;124;43m'\u001b[39;49m\u001b[43m]\u001b[49m\u001b[43m,\u001b[49m\n\u001b[1;32m    164\u001b[0m \u001b[43m         \u001b[49m\u001b[43mbeta1\u001b[49m\u001b[38;5;241;43m=\u001b[39;49m\u001b[43mbeta1\u001b[49m\u001b[43m,\u001b[49m\n\u001b[1;32m    165\u001b[0m \u001b[43m         \u001b[49m\u001b[43mbeta2\u001b[49m\u001b[38;5;241;43m=\u001b[39;49m\u001b[43mbeta2\u001b[49m\u001b[43m,\u001b[49m\n\u001b[1;32m    166\u001b[0m \u001b[43m         \u001b[49m\u001b[43mlr\u001b[49m\u001b[38;5;241;43m=\u001b[39;49m\u001b[43mgroup\u001b[49m\u001b[43m[\u001b[49m\u001b[38;5;124;43m'\u001b[39;49m\u001b[38;5;124;43mlr\u001b[39;49m\u001b[38;5;124;43m'\u001b[39;49m\u001b[43m]\u001b[49m\u001b[43m,\u001b[49m\n\u001b[1;32m    167\u001b[0m \u001b[43m         \u001b[49m\u001b[43mweight_decay\u001b[49m\u001b[38;5;241;43m=\u001b[39;49m\u001b[43mgroup\u001b[49m\u001b[43m[\u001b[49m\u001b[38;5;124;43m'\u001b[39;49m\u001b[38;5;124;43mweight_decay\u001b[39;49m\u001b[38;5;124;43m'\u001b[39;49m\u001b[43m]\u001b[49m\u001b[43m,\u001b[49m\n\u001b[1;32m    168\u001b[0m \u001b[43m         \u001b[49m\u001b[43meps\u001b[49m\u001b[38;5;241;43m=\u001b[39;49m\u001b[43mgroup\u001b[49m\u001b[43m[\u001b[49m\u001b[38;5;124;43m'\u001b[39;49m\u001b[38;5;124;43meps\u001b[39;49m\u001b[38;5;124;43m'\u001b[39;49m\u001b[43m]\u001b[49m\u001b[43m,\u001b[49m\n\u001b[1;32m    169\u001b[0m \u001b[43m         \u001b[49m\u001b[43mmaximize\u001b[49m\u001b[38;5;241;43m=\u001b[39;49m\u001b[43mgroup\u001b[49m\u001b[43m[\u001b[49m\u001b[38;5;124;43m'\u001b[39;49m\u001b[38;5;124;43mmaximize\u001b[39;49m\u001b[38;5;124;43m'\u001b[39;49m\u001b[43m]\u001b[49m\u001b[43m,\u001b[49m\n\u001b[1;32m    170\u001b[0m \u001b[43m         \u001b[49m\u001b[43mforeach\u001b[49m\u001b[38;5;241;43m=\u001b[39;49m\u001b[43mgroup\u001b[49m\u001b[43m[\u001b[49m\u001b[38;5;124;43m'\u001b[39;49m\u001b[38;5;124;43mforeach\u001b[39;49m\u001b[38;5;124;43m'\u001b[39;49m\u001b[43m]\u001b[49m\u001b[43m,\u001b[49m\n\u001b[1;32m    171\u001b[0m \u001b[43m         \u001b[49m\u001b[43mcapturable\u001b[49m\u001b[38;5;241;43m=\u001b[39;49m\u001b[43mgroup\u001b[49m\u001b[43m[\u001b[49m\u001b[38;5;124;43m'\u001b[39;49m\u001b[38;5;124;43mcapturable\u001b[39;49m\u001b[38;5;124;43m'\u001b[39;49m\u001b[43m]\u001b[49m\u001b[43m)\u001b[49m\n\u001b[1;32m    173\u001b[0m \u001b[38;5;28;01mreturn\u001b[39;00m loss\n",
      "File \u001b[0;32m/anaconda/envs/azureml_py38_PT_TF/lib/python3.8/site-packages/torch/optim/adam.py:213\u001b[0m, in \u001b[0;36madam\u001b[0;34m(params, grads, exp_avgs, exp_avg_sqs, max_exp_avg_sqs, state_steps, foreach, capturable, amsgrad, beta1, beta2, lr, weight_decay, eps, maximize)\u001b[0m\n\u001b[1;32m    210\u001b[0m \u001b[38;5;28;01melse\u001b[39;00m:\n\u001b[1;32m    211\u001b[0m     func \u001b[38;5;241m=\u001b[39m _single_tensor_adam\n\u001b[0;32m--> 213\u001b[0m \u001b[43mfunc\u001b[49m\u001b[43m(\u001b[49m\u001b[43mparams\u001b[49m\u001b[43m,\u001b[49m\n\u001b[1;32m    214\u001b[0m \u001b[43m     \u001b[49m\u001b[43mgrads\u001b[49m\u001b[43m,\u001b[49m\n\u001b[1;32m    215\u001b[0m \u001b[43m     \u001b[49m\u001b[43mexp_avgs\u001b[49m\u001b[43m,\u001b[49m\n\u001b[1;32m    216\u001b[0m \u001b[43m     \u001b[49m\u001b[43mexp_avg_sqs\u001b[49m\u001b[43m,\u001b[49m\n\u001b[1;32m    217\u001b[0m \u001b[43m     \u001b[49m\u001b[43mmax_exp_avg_sqs\u001b[49m\u001b[43m,\u001b[49m\n\u001b[1;32m    218\u001b[0m \u001b[43m     \u001b[49m\u001b[43mstate_steps\u001b[49m\u001b[43m,\u001b[49m\n\u001b[1;32m    219\u001b[0m \u001b[43m     \u001b[49m\u001b[43mamsgrad\u001b[49m\u001b[38;5;241;43m=\u001b[39;49m\u001b[43mamsgrad\u001b[49m\u001b[43m,\u001b[49m\n\u001b[1;32m    220\u001b[0m \u001b[43m     \u001b[49m\u001b[43mbeta1\u001b[49m\u001b[38;5;241;43m=\u001b[39;49m\u001b[43mbeta1\u001b[49m\u001b[43m,\u001b[49m\n\u001b[1;32m    221\u001b[0m \u001b[43m     \u001b[49m\u001b[43mbeta2\u001b[49m\u001b[38;5;241;43m=\u001b[39;49m\u001b[43mbeta2\u001b[49m\u001b[43m,\u001b[49m\n\u001b[1;32m    222\u001b[0m \u001b[43m     \u001b[49m\u001b[43mlr\u001b[49m\u001b[38;5;241;43m=\u001b[39;49m\u001b[43mlr\u001b[49m\u001b[43m,\u001b[49m\n\u001b[1;32m    223\u001b[0m \u001b[43m     \u001b[49m\u001b[43mweight_decay\u001b[49m\u001b[38;5;241;43m=\u001b[39;49m\u001b[43mweight_decay\u001b[49m\u001b[43m,\u001b[49m\n\u001b[1;32m    224\u001b[0m \u001b[43m     \u001b[49m\u001b[43meps\u001b[49m\u001b[38;5;241;43m=\u001b[39;49m\u001b[43meps\u001b[49m\u001b[43m,\u001b[49m\n\u001b[1;32m    225\u001b[0m \u001b[43m     \u001b[49m\u001b[43mmaximize\u001b[49m\u001b[38;5;241;43m=\u001b[39;49m\u001b[43mmaximize\u001b[49m\u001b[43m,\u001b[49m\n\u001b[1;32m    226\u001b[0m \u001b[43m     \u001b[49m\u001b[43mcapturable\u001b[49m\u001b[38;5;241;43m=\u001b[39;49m\u001b[43mcapturable\u001b[49m\u001b[43m)\u001b[49m\n",
      "File \u001b[0;32m/anaconda/envs/azureml_py38_PT_TF/lib/python3.8/site-packages/torch/optim/adam.py:264\u001b[0m, in \u001b[0;36m_single_tensor_adam\u001b[0;34m(params, grads, exp_avgs, exp_avg_sqs, max_exp_avg_sqs, state_steps, amsgrad, beta1, beta2, lr, weight_decay, eps, maximize, capturable)\u001b[0m\n\u001b[1;32m    261\u001b[0m     grad \u001b[38;5;241m=\u001b[39m grad\u001b[38;5;241m.\u001b[39madd(param, alpha\u001b[38;5;241m=\u001b[39mweight_decay)\n\u001b[1;32m    263\u001b[0m \u001b[38;5;66;03m# Decay the first and second moment running average coefficient\u001b[39;00m\n\u001b[0;32m--> 264\u001b[0m \u001b[43mexp_avg\u001b[49m\u001b[38;5;241;43m.\u001b[39;49m\u001b[43mmul_\u001b[49m\u001b[43m(\u001b[49m\u001b[43mbeta1\u001b[49m\u001b[43m)\u001b[49m\u001b[38;5;241m.\u001b[39madd_(grad, alpha\u001b[38;5;241m=\u001b[39m\u001b[38;5;241m1\u001b[39m \u001b[38;5;241m-\u001b[39m beta1)\n\u001b[1;32m    265\u001b[0m exp_avg_sq\u001b[38;5;241m.\u001b[39mmul_(beta2)\u001b[38;5;241m.\u001b[39maddcmul_(grad, grad\u001b[38;5;241m.\u001b[39mconj(), value\u001b[38;5;241m=\u001b[39m\u001b[38;5;241m1\u001b[39m \u001b[38;5;241m-\u001b[39m beta2)\n\u001b[1;32m    267\u001b[0m \u001b[38;5;28;01mif\u001b[39;00m capturable:\n",
      "\u001b[0;31mKeyboardInterrupt\u001b[0m: "
     ]
    }
   ],
   "source": [
    "%%time\n",
    "\n",
    "AC_agent.train(gamma=GAMMA, max_episodes=MAX_EPISODES)"
   ]
  },
  {
   "cell_type": "code",
   "execution_count": null,
   "metadata": {
    "gather": {
     "logged": 1676492580659
    },
    "jupyter": {
     "outputs_hidden": false,
     "source_hidden": false
    },
    "nteract": {
     "transient": {
      "deleting": false
     }
    }
   },
   "outputs": [],
   "source": [
    "np.array([False, True, False]) + 1E-5"
   ]
  },
  {
   "cell_type": "code",
   "execution_count": null,
   "metadata": {
    "gather": {
     "logged": 1676492580681
    }
   },
   "outputs": [],
   "source": [
    "AC_agent.maxS.render()"
   ]
  },
  {
   "cell_type": "code",
   "execution_count": null,
   "metadata": {
    "gather": {
     "logged": 1676492580697
    },
    "jupyter": {
     "outputs_hidden": false,
     "source_hidden": false
    },
    "nteract": {
     "transient": {
      "deleting": false
     }
    }
   },
   "outputs": [],
   "source": [
    "AC_agent.maxS.prodsLog[300]"
   ]
  },
  {
   "cell_type": "code",
   "execution_count": null,
   "metadata": {
    "colab": {
     "base_uri": "https://localhost:8080/",
     "height": 497
    },
    "gather": {
     "logged": 1676492580714
    },
    "id": "M0MQcI2Q6-tY",
    "outputId": "c4b48a88-5eca-4123-90b4-131eca6ed810"
   },
   "outputs": [],
   "source": [
    "AC_agent.plot_rewards()"
   ]
  },
  {
   "cell_type": "code",
   "execution_count": null,
   "metadata": {
    "gather": {
     "logged": 1676492580730
    },
    "id": "V1uA1JgE6-tZ"
   },
   "outputs": [],
   "source": [
    "myfile = 'agentACDT_Trained_Model.pth'\n",
    "if os.path.isfile(myfile):\n",
    "    os.remove(myfile)\n",
    "torch.save(ACa.state_dict(), myfile)"
   ]
  },
  {
   "cell_type": "code",
   "execution_count": null,
   "metadata": {
    "colab": {
     "base_uri": "https://localhost:8080/"
    },
    "id": "z2iikyMV6-tZ",
    "outputId": "11179bc9-eff6-4047-b78c-a42a2dbea1d8",
    "scrolled": false
   },
   "outputs": [],
   "source": [
    "%%time\n",
    "\n",
    "env = gym.envs.make(\"crudeTanksEnv-v0\")\n",
    "\n",
    "AC = AC_actor(env, 512, learning_rate=0.005, device='cuda')\n",
    "AC.load_state_dict(torch.load(myfile))\n",
    "\n",
    "state0 = flat(env.observation_space, env.reset()[0])\n",
    "done = False\n",
    "episode_reward = 0\n",
    "n = 0\n",
    "action_list = []\n",
    "while not done:\n",
    "    cProb, d1Prob, d2Prob = AC.get_action(state0)\n",
    "    cAction = cProb.sample()\n",
    "    cAction = torch.clamp(cAction, min=0.0, max=1.0)\n",
    "    d1Action = d1Prob.sample()\n",
    "    d2Action = d2Prob.sample()\n",
    "    action = OrderedDict({'farmTanks': np.array([d1Action.item(), d2Action.item()]),\n",
    "                          'unitFeed': np.array([cAction.item()])})\n",
    "    state, reward, done, _, _ = env.step(action)\n",
    "    state = flat(env.observation_space, state)\n",
    "    episode_reward += reward\n",
    "    n += 1\n",
    "    state0 = deepcopy(state)\n",
    "    if n >= env.spec.max_episode_steps:\n",
    "        done = True\n",
    "\n",
    "print('n: {:4d}   reward: {:4.2f}'.format(n, episode_reward))\n",
    "env.render()\n",
    "print('\\n')"
   ]
  },
  {
   "cell_type": "code",
   "execution_count": null,
   "metadata": {
    "gather": {
     "logged": 1676492580751
    }
   },
   "outputs": [],
   "source": [
    "list(AC.parameters())"
   ]
  },
  {
   "cell_type": "code",
   "execution_count": null,
   "metadata": {
    "colab": {
     "base_uri": "https://localhost:8080/"
    },
    "id": "z2iikyMV6-tZ",
    "outputId": "11179bc9-eff6-4047-b78c-a42a2dbea1d8"
   },
   "outputs": [],
   "source": [
    "%%time\n",
    "\n",
    "env = gym.envs.make(\"crudeTanksEnv-v0\")\n",
    "\n",
    "AC = AC_actor(env, 512, learning_rate=0.005, device='cuda')\n",
    "AC.load_state_dict(torch.load(myfile))\n",
    "\n",
    "reward_list = []\n",
    "n_list = []\n",
    "for n_episodes in range(20):\n",
    "    state0 = flat(env.observation_space, env.reset()[0])\n",
    "    done = False\n",
    "    episode_reward = 0\n",
    "    n = 0\n",
    "    action_list = []\n",
    "    while not done:\n",
    "        cProb, d1Prob, d2Prob = AC.get_action(state0)\n",
    "        cAction = cProb.sample()\n",
    "        d1Action = d1Prob.sample()\n",
    "        d2Action = d2Prob.sample()\n",
    "        action = OrderedDict({'farmTanks': np.array([d1Action.item(), d2Action.item()]),\n",
    "                              'unitFeed': np.array([cAction.item()])})\n",
    "        state, reward, done, _, _ = env.step(action)\n",
    "        state = flat(env.observation_space, state)\n",
    "        episode_reward += reward\n",
    "        n += 1\n",
    "        state0 = deepcopy(state)\n",
    "        if n >= env.spec.max_episode_steps:\n",
    "            done = True\n",
    "\n",
    "    print('{:2d} n: {:4d}   reward: {:4.2f}'.format(n_episodes+1, n, episode_reward))\n",
    "    reward_list.append(episode_reward)\n",
    "print('\\n')"
   ]
  },
  {
   "cell_type": "code",
   "execution_count": null,
   "metadata": {
    "colab": {
     "base_uri": "https://localhost:8080/",
     "height": 370
    },
    "gather": {
     "logged": 1676492580770
    },
    "id": "HDEwTRct6-tZ",
    "outputId": "93f331cd-fd04-457e-de5b-efca077061bf"
   },
   "outputs": [],
   "source": [
    "fig, ax = plt.subplots(figsize=(12, 5))\n",
    "\n",
    "fig.suptitle('Recompensa de 20 partidas con el modelo ajustado')\n",
    "\n",
    "ax.plot(reward_list)\n",
    "ax.axhline(y=env.spec.reward_threshold, color='r', linestyle='-')\n",
    "ax.set_xlabel('suma de recompensas de cada partida')\n",
    "ax.set_xticks(range(20))\n",
    "ax.grid()\n",
    "\n",
    "plt.show()"
   ]
  }
 ],
 "metadata": {
  "accelerator": "GPU",
  "colab": {
   "provenance": []
  },
  "gpuClass": "standard",
  "kernel_info": {
   "name": "python38-azureml-pt-tf"
  },
  "kernelspec": {
   "display_name": "rl",
   "language": "python",
   "name": "rl"
  },
  "language_info": {
   "codemirror_mode": {
    "name": "ipython",
    "version": 3
   },
   "file_extension": ".py",
   "mimetype": "text/x-python",
   "name": "python",
   "nbconvert_exporter": "python",
   "pygments_lexer": "ipython3",
   "version": "3.10.9"
  },
  "microsoft": {
   "host": {
    "AzureML": {
     "notebookHasBeenCompleted": true
    }
   },
   "ms_spell_check": {
    "ms_spell_check_language": "en"
   }
  },
  "nteract": {
   "version": "nteract-front-end@1.0.0"
  }
 },
 "nbformat": 4,
 "nbformat_minor": 1
}
