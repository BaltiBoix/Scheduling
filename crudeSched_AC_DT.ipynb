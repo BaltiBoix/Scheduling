{
  "cells": [
    {
      "cell_type": "markdown",
      "source": [
        "# Práctica\n",
        "\n",
        "Se utilizará el <i>framework</i> de __Pytorch__. "
      ],
      "metadata": {
        "id": "E04Z1oI_c-GD"
      }
    },
    {
      "cell_type": "markdown",
      "source": [
        "## 1. Entorno Crude Scheduler"
      ],
      "metadata": {
        "id": "PyM8Vm0pc-GE"
      }
    },
    {
      "cell_type": "markdown",
      "source": [
        "### 1.1. Establecer el entorno"
      ],
      "metadata": {
        "id": "NAwj1foPc-GF"
      }
    },
    {
      "cell_type": "markdown",
      "source": [
        "En primer lugar cargaremos la librería __gym__ e inicializaremos el entorno."
      ],
      "metadata": {
        "id": "WjnIDGG5c-GG"
      }
    },
    {
      "cell_type": "code",
      "source": [
        "import gymnasium as gym\n",
        "from gymnasium.spaces import flatten as flat\n",
        "import torch\n",
        "import numpy as np\n",
        "import matplotlib.pyplot as plt\n",
        "from copy import deepcopy, copy\n",
        "from collections import namedtuple, deque\n",
        "import os\n",
        "import IPython.display\n",
        "import sklearn\n",
        "import sklearn.pipeline\n",
        "from sklearn.kernel_approximation import RBFSampler\n",
        "\n",
        "from tankEnv import *\n",
        "\n",
        "env = gym.envs.make('crudeTanksEnv-v0')"
      ],
      "outputs": [
        {
          "output_type": "stream",
          "name": "stderr",
          "text": "/anaconda/envs/azureml_py38_PT_TF/lib/python3.8/site-packages/tqdm/auto.py:22: TqdmWarning: IProgress not found. Please update jupyter and ipywidgets. See https://ipywidgets.readthedocs.io/en/stable/user_install.html\n  from .autonotebook import tqdm as notebook_tqdm\n/anaconda/envs/azureml_py38_PT_TF/lib/python3.8/site-packages/gymnasium/utils/passive_env_checker.py:31: UserWarning: \u001b[33mWARN: A Box observation space has an unconventional shape (neither an image, nor a 1D vector). We recommend flattening the observation to have only a 1D vector or use a custom policy to properly process the data. Actual observation shape: (2, 10)\u001b[0m\n  logger.warn(\n/anaconda/envs/azureml_py38_PT_TF/lib/python3.8/site-packages/gymnasium/utils/passive_env_checker.py:31: UserWarning: \u001b[33mWARN: A Box observation space has an unconventional shape (neither an image, nor a 1D vector). We recommend flattening the observation to have only a 1D vector or use a custom policy to properly process the data. Actual observation shape: (2, 5)\u001b[0m\n  logger.warn(\n/anaconda/envs/azureml_py38_PT_TF/lib/python3.8/site-packages/gymnasium/utils/passive_env_checker.py:31: UserWarning: \u001b[33mWARN: A Box observation space has an unconventional shape (neither an image, nor a 1D vector). We recommend flattening the observation to have only a 1D vector or use a custom policy to properly process the data. Actual observation shape: (7, 10)\u001b[0m\n  logger.warn(\n/anaconda/envs/azureml_py38_PT_TF/lib/python3.8/site-packages/gymnasium/utils/passive_env_checker.py:31: UserWarning: \u001b[33mWARN: A Box observation space has an unconventional shape (neither an image, nor a 1D vector). We recommend flattening the observation to have only a 1D vector or use a custom policy to properly process the data. Actual observation shape: (7, 5)\u001b[0m\n  logger.warn(\n"
        }
      ],
      "execution_count": 1,
      "metadata": {
        "colab": {
          "base_uri": "https://localhost:8080/"
        },
        "id": "44GG2cz6c-GH",
        "outputId": "0400139c-300c-4b2d-997e-f1cf26008a53",
        "gather": {
          "logged": 1676477642152
        }
      }
    },
    {
      "cell_type": "code",
      "source": [
        "print('Is torch cuda available?: {}'.format(torch.cuda.is_available()))"
      ],
      "outputs": [
        {
          "output_type": "stream",
          "name": "stdout",
          "text": "Is torch cuda available?: False\n"
        }
      ],
      "execution_count": 2,
      "metadata": {
        "colab": {
          "base_uri": "https://localhost:8080/"
        },
        "id": "lkjAHGpcc-GI",
        "outputId": "96a1758f-e83e-4e28-d99a-82be5ea1b2f1",
        "gather": {
          "logged": 1676477642314
        }
      }
    },
    {
      "cell_type": "code",
      "source": [
        "env.spec"
      ],
      "outputs": [
        {
          "output_type": "execute_result",
          "execution_count": 3,
          "data": {
            "text/plain": "EnvSpec(id='crudeTanksEnv-v0', entry_point=<class 'tankEnv.crudeTanksEnv'>, reward_threshold=850, nondeterministic=False, max_episode_steps=720, order_enforce=True, autoreset=False, disable_env_checker=False, apply_api_compatibility=False, kwargs={}, namespace=None, name='crudeTanksEnv', version=0)"
          },
          "metadata": {}
        }
      ],
      "execution_count": 3,
      "metadata": {
        "colab": {
          "base_uri": "https://localhost:8080/"
        },
        "id": "zxWyoDnXtyC9",
        "outputId": "0317685d-00a1-40a1-b894-2da8893e788b",
        "gather": {
          "logged": 1676477642490
        }
      }
    },
    {
      "cell_type": "markdown",
      "source": [
        "### Descripción del entorno"
      ],
      "metadata": {
        "id": "nQ9nEBi4kenB"
      }
    },
    {
      "cell_type": "markdown",
      "source": [
        "### Description  \n",
        "\n",
        "The Mountain Car MDP is a deterministic MDP that consists of a car placed stochastically at the bottom of a sinusoidal valley, with the only possible actions being the accelerations that can be applied to the car in either direction. The goal of the MDP is to strategically accelerate the car to reach the goal state on top of the right hill. There are two versions of the mountain car domain in gymnasium: one with discrete actions and one with continuous. This version is the one with continuous actions.\n",
        "\n",
        "This MDP first appeared in Andrew Moore’s PhD Thesis (1990)\n",
        "\n",
        "#### Observation Space  \n",
        "The observation is a ndarray with shape (2,) where the elements correspond to the following:\n",
        "\n",
        "Num Observation                              Min  Max   Unit\n",
        "\n",
        " 0  position of the car along the x-axis    -Inf  Inf   position (m)\n",
        "\n",
        " 1  velocity of the car                     -Inf  Inf   velocity (m/s)\n",
        "\n",
        "#### Action Space  \n",
        "The action is a ndarray with shape (1,), representing the directional force applied on the car. The action is clipped in the range [-1,1] and multiplied by a power of 0.0015.\n",
        "\n",
        "Transition Dynamics:\n",
        "Given an action, the mountain car follows the following transition dynamics:\n",
        "\n",
        "velocity<sub>t+1</sub> = velocity<sub>t+1</sub> + force * self.power - 0.0025 * cos(3 * position<sub>t</sub>)\n",
        "\n",
        "position<sub>t+1</sub> = position<sub>t</sub> + velocity<sub>t+1</sub>\n",
        "\n",
        "where force is the action clipped to the range [-1,1] and power is a constant 0.0015. The collisions at either end are inelastic with the velocity set to 0 upon collision with the wall. The position is clipped to the range [-1.2, 0.6] and velocity is clipped to the range [-0.07, 0.07].\n",
        "\n",
        "#### Reward  \n",
        "A negative reward of -0.1 * action<sup>2</sup> is received at each timestep to penalise for taking actions of large magnitude. If the mountain car reaches the goal then a positive reward of +100 is added to the negative reward for that timestep.\n",
        "\n",
        "#### Starting State  \n",
        "The position of the car is assigned a uniform random value in [-0.6 , -0.4]. The starting velocity of the car is always assigned to 0.\n",
        "\n",
        "#### Episode End  \n",
        "The episode ends if either of the following happens:\n",
        "\n",
        "Termination: The position of the car is greater than or equal to 0.45 (the goal position on top of the right hill)\n",
        "\n",
        "Truncation: The length of the episode is 999."
      ],
      "metadata": {
        "id": "Pok92qCzkenC"
      }
    },
    {
      "cell_type": "code",
      "source": [
        "# Feature Preprocessing: Normalize to zero mean and unit variance\n",
        "# We use a few samples from the observation space to do this\n",
        "observation_examples = np.array([flat(env.observation_space, env.observation_space.sample()) for x in range(10000)])\n",
        "scaler = sklearn.preprocessing.StandardScaler()\n",
        "scaler.fit(observation_examples)\n",
        "\n",
        "# Used to converte a state to a featurizes represenation.\n",
        "# We use RBF kernels with different variances to cover different parts of the space\n",
        "featurizer = sklearn.pipeline.FeatureUnion([\n",
        "        (\"rbf1\", RBFSampler(gamma=5.0, n_components=128)),\n",
        "        (\"rbf2\", RBFSampler(gamma=2.0, n_components=128)),\n",
        "        (\"rbf3\", RBFSampler(gamma=1.0, n_components=128)),\n",
        "        (\"rbf4\", RBFSampler(gamma=0.5, n_components=128))\n",
        "        ])\n",
        "featurizer.fit(scaler.transform(observation_examples))"
      ],
      "outputs": [
        {
          "output_type": "execute_result",
          "execution_count": 4,
          "data": {
            "text/plain": "FeatureUnion(transformer_list=[('rbf1',\n                                RBFSampler(gamma=5.0, n_components=128)),\n                               ('rbf2',\n                                RBFSampler(gamma=2.0, n_components=128)),\n                               ('rbf3', RBFSampler(n_components=128)),\n                               ('rbf4',\n                                RBFSampler(gamma=0.5, n_components=128))])",
            "text/html": "<style>#sk-container-id-1 {color: black;background-color: white;}#sk-container-id-1 pre{padding: 0;}#sk-container-id-1 div.sk-toggleable {background-color: white;}#sk-container-id-1 label.sk-toggleable__label {cursor: pointer;display: block;width: 100%;margin-bottom: 0;padding: 0.3em;box-sizing: border-box;text-align: center;}#sk-container-id-1 label.sk-toggleable__label-arrow:before {content: \"▸\";float: left;margin-right: 0.25em;color: #696969;}#sk-container-id-1 label.sk-toggleable__label-arrow:hover:before {color: black;}#sk-container-id-1 div.sk-estimator:hover label.sk-toggleable__label-arrow:before {color: black;}#sk-container-id-1 div.sk-toggleable__content {max-height: 0;max-width: 0;overflow: hidden;text-align: left;background-color: #f0f8ff;}#sk-container-id-1 div.sk-toggleable__content pre {margin: 0.2em;color: black;border-radius: 0.25em;background-color: #f0f8ff;}#sk-container-id-1 input.sk-toggleable__control:checked~div.sk-toggleable__content {max-height: 200px;max-width: 100%;overflow: auto;}#sk-container-id-1 input.sk-toggleable__control:checked~label.sk-toggleable__label-arrow:before {content: \"▾\";}#sk-container-id-1 div.sk-estimator input.sk-toggleable__control:checked~label.sk-toggleable__label {background-color: #d4ebff;}#sk-container-id-1 div.sk-label input.sk-toggleable__control:checked~label.sk-toggleable__label {background-color: #d4ebff;}#sk-container-id-1 input.sk-hidden--visually {border: 0;clip: rect(1px 1px 1px 1px);clip: rect(1px, 1px, 1px, 1px);height: 1px;margin: -1px;overflow: hidden;padding: 0;position: absolute;width: 1px;}#sk-container-id-1 div.sk-estimator {font-family: monospace;background-color: #f0f8ff;border: 1px dotted black;border-radius: 0.25em;box-sizing: border-box;margin-bottom: 0.5em;}#sk-container-id-1 div.sk-estimator:hover {background-color: #d4ebff;}#sk-container-id-1 div.sk-parallel-item::after {content: \"\";width: 100%;border-bottom: 1px solid gray;flex-grow: 1;}#sk-container-id-1 div.sk-label:hover label.sk-toggleable__label {background-color: #d4ebff;}#sk-container-id-1 div.sk-serial::before {content: \"\";position: absolute;border-left: 1px solid gray;box-sizing: border-box;top: 0;bottom: 0;left: 50%;z-index: 0;}#sk-container-id-1 div.sk-serial {display: flex;flex-direction: column;align-items: center;background-color: white;padding-right: 0.2em;padding-left: 0.2em;position: relative;}#sk-container-id-1 div.sk-item {position: relative;z-index: 1;}#sk-container-id-1 div.sk-parallel {display: flex;align-items: stretch;justify-content: center;background-color: white;position: relative;}#sk-container-id-1 div.sk-item::before, #sk-container-id-1 div.sk-parallel-item::before {content: \"\";position: absolute;border-left: 1px solid gray;box-sizing: border-box;top: 0;bottom: 0;left: 50%;z-index: -1;}#sk-container-id-1 div.sk-parallel-item {display: flex;flex-direction: column;z-index: 1;position: relative;background-color: white;}#sk-container-id-1 div.sk-parallel-item:first-child::after {align-self: flex-end;width: 50%;}#sk-container-id-1 div.sk-parallel-item:last-child::after {align-self: flex-start;width: 50%;}#sk-container-id-1 div.sk-parallel-item:only-child::after {width: 0;}#sk-container-id-1 div.sk-dashed-wrapped {border: 1px dashed gray;margin: 0 0.4em 0.5em 0.4em;box-sizing: border-box;padding-bottom: 0.4em;background-color: white;}#sk-container-id-1 div.sk-label label {font-family: monospace;font-weight: bold;display: inline-block;line-height: 1.2em;}#sk-container-id-1 div.sk-label-container {text-align: center;}#sk-container-id-1 div.sk-container {/* jupyter's `normalize.less` sets `[hidden] { display: none; }` but bootstrap.min.css set `[hidden] { display: none !important; }` so we also need the `!important` here to be able to override the default hidden behavior on the sphinx rendered scikit-learn.org. See: https://github.com/scikit-learn/scikit-learn/issues/21755 */display: inline-block !important;position: relative;}#sk-container-id-1 div.sk-text-repr-fallback {display: none;}</style><div id=\"sk-container-id-1\" class=\"sk-top-container\"><div class=\"sk-text-repr-fallback\"><pre>FeatureUnion(transformer_list=[(&#x27;rbf1&#x27;,\n                                RBFSampler(gamma=5.0, n_components=128)),\n                               (&#x27;rbf2&#x27;,\n                                RBFSampler(gamma=2.0, n_components=128)),\n                               (&#x27;rbf3&#x27;, RBFSampler(n_components=128)),\n                               (&#x27;rbf4&#x27;,\n                                RBFSampler(gamma=0.5, n_components=128))])</pre><b>In a Jupyter environment, please rerun this cell to show the HTML representation or trust the notebook. <br />On GitHub, the HTML representation is unable to render, please try loading this page with nbviewer.org.</b></div><div class=\"sk-container\" hidden><div class=\"sk-item sk-dashed-wrapped\"><div class=\"sk-label-container\"><div class=\"sk-label sk-toggleable\"><input class=\"sk-toggleable__control sk-hidden--visually\" id=\"sk-estimator-id-1\" type=\"checkbox\" ><label for=\"sk-estimator-id-1\" class=\"sk-toggleable__label sk-toggleable__label-arrow\">FeatureUnion</label><div class=\"sk-toggleable__content\"><pre>FeatureUnion(transformer_list=[(&#x27;rbf1&#x27;,\n                                RBFSampler(gamma=5.0, n_components=128)),\n                               (&#x27;rbf2&#x27;,\n                                RBFSampler(gamma=2.0, n_components=128)),\n                               (&#x27;rbf3&#x27;, RBFSampler(n_components=128)),\n                               (&#x27;rbf4&#x27;,\n                                RBFSampler(gamma=0.5, n_components=128))])</pre></div></div></div><div class=\"sk-parallel\"><div class=\"sk-parallel-item\"><div class=\"sk-item\"><div class=\"sk-label-container\"><div class=\"sk-label sk-toggleable\"><label>rbf1</label></div></div><div class=\"sk-serial\"><div class=\"sk-item\"><div class=\"sk-estimator sk-toggleable\"><input class=\"sk-toggleable__control sk-hidden--visually\" id=\"sk-estimator-id-2\" type=\"checkbox\" ><label for=\"sk-estimator-id-2\" class=\"sk-toggleable__label sk-toggleable__label-arrow\">RBFSampler</label><div class=\"sk-toggleable__content\"><pre>RBFSampler(gamma=5.0, n_components=128)</pre></div></div></div></div></div></div><div class=\"sk-parallel-item\"><div class=\"sk-item\"><div class=\"sk-label-container\"><div class=\"sk-label sk-toggleable\"><label>rbf2</label></div></div><div class=\"sk-serial\"><div class=\"sk-item\"><div class=\"sk-estimator sk-toggleable\"><input class=\"sk-toggleable__control sk-hidden--visually\" id=\"sk-estimator-id-3\" type=\"checkbox\" ><label for=\"sk-estimator-id-3\" class=\"sk-toggleable__label sk-toggleable__label-arrow\">RBFSampler</label><div class=\"sk-toggleable__content\"><pre>RBFSampler(gamma=2.0, n_components=128)</pre></div></div></div></div></div></div><div class=\"sk-parallel-item\"><div class=\"sk-item\"><div class=\"sk-label-container\"><div class=\"sk-label sk-toggleable\"><label>rbf3</label></div></div><div class=\"sk-serial\"><div class=\"sk-item\"><div class=\"sk-estimator sk-toggleable\"><input class=\"sk-toggleable__control sk-hidden--visually\" id=\"sk-estimator-id-4\" type=\"checkbox\" ><label for=\"sk-estimator-id-4\" class=\"sk-toggleable__label sk-toggleable__label-arrow\">RBFSampler</label><div class=\"sk-toggleable__content\"><pre>RBFSampler(n_components=128)</pre></div></div></div></div></div></div><div class=\"sk-parallel-item\"><div class=\"sk-item\"><div class=\"sk-label-container\"><div class=\"sk-label sk-toggleable\"><label>rbf4</label></div></div><div class=\"sk-serial\"><div class=\"sk-item\"><div class=\"sk-estimator sk-toggleable\"><input class=\"sk-toggleable__control sk-hidden--visually\" id=\"sk-estimator-id-5\" type=\"checkbox\" ><label for=\"sk-estimator-id-5\" class=\"sk-toggleable__label sk-toggleable__label-arrow\">RBFSampler</label><div class=\"sk-toggleable__content\"><pre>RBFSampler(gamma=0.5, n_components=128)</pre></div></div></div></div></div></div></div></div></div></div>"
          },
          "metadata": {}
        }
      ],
      "execution_count": 4,
      "metadata": {
        "colab": {
          "base_uri": "https://localhost:8080/"
        },
        "id": "72c_16jwqFQl",
        "outputId": "0ce7234e-54d6-4e41-d6bc-7e812fb25b0a",
        "gather": {
          "logged": 1676477645552
        }
      }
    },
    {
      "cell_type": "code",
      "source": [
        "def featurize_state(state):\n",
        "    \"\"\"\n",
        "    Returns the featurized representation for a state.\n",
        "    \"\"\"\n",
        "    scaled = scaler.transform([state])\n",
        "    featurized = featurizer.transform(scaled)\n",
        "    return featurized[0]"
      ],
      "outputs": [],
      "execution_count": 5,
      "metadata": {
        "id": "vEGqlPLVqLpB",
        "gather": {
          "logged": 1676477645796
        }
      }
    },
    {
      "cell_type": "code",
      "source": [
        "env.action_space.sample()"
      ],
      "outputs": [
        {
          "output_type": "execute_result",
          "execution_count": 6,
          "data": {
            "text/plain": "OrderedDict([('farmTanks', array([9, 0])), ('unitFeed', array(0.42043236))])"
          },
          "metadata": {}
        }
      ],
      "execution_count": 6,
      "metadata": {
        "gather": {
          "logged": 1676477645974
        }
      }
    },
    {
      "cell_type": "markdown",
      "source": [
        "## Actor-Critic method\n"
      ],
      "metadata": {
        "id": "_UA4SPt96-tH"
      }
    },
    {
      "cell_type": "markdown",
      "source": [
        "Basado en el ejemplo de pytorch:  \n",
        "\n",
        "https://medium.com/geekculture/actor-critic-implementing-actor-critic-methods-82efb998c273"
      ],
      "metadata": {
        "id": "PmpmuawyAr66"
      }
    },
    {
      "cell_type": "code",
      "source": [
        "class AC_actor(torch.nn.Module):\n",
        "\n",
        "    def __init__(self, env, n_inputs, learning_rate=1e-3, device='cpu'):\n",
        "        \"\"\"\n",
        "        Actor ANN\n",
        "        \"\"\"\n",
        "        super(AC_actor, self).__init__()\n",
        "\n",
        "        self.n_inputs = n_inputs\n",
        "        self.learning_rate = learning_rate\n",
        "\n",
        "        if torch.cuda.is_available() and device=='cuda':\n",
        "            self.device = 'cuda'\n",
        "        else:\n",
        "            self.device = 'cpu'\n",
        "\n",
        "        self.learning_rate = learning_rate\n",
        "\n",
        "        # AC Actor\n",
        "        self.actor = torch.nn.Sequential(\n",
        "            torch.nn.Linear(self.n_inputs, 512, bias=True),\n",
        "            torch.nn.ReLU(),\n",
        "            torch.nn.Linear(512, 256, bias=True),\n",
        "            torch.nn.ReLU()       \n",
        "        )\n",
        "        self.actorC = torch.nn.Sequential(\n",
        "            torch.nn.Linear(256, 256, bias=True),\n",
        "            torch.nn.ReLU(),\n",
        "            torch.nn.Linear(256, 128, bias=True),\n",
        "            torch.nn.ReLU(),       \n",
        "            torch.nn.Linear(128, 1, bias=True),\n",
        "            torch.nn.Softplus()\n",
        "        )\n",
        "        self.actorD1 = torch.nn.Sequential(\n",
        "            torch.nn.Linear(256, 256, bias=True),\n",
        "            torch.nn.ReLU(),\n",
        "            torch.nn.Linear(256, 128, bias=True),\n",
        "            torch.nn.ReLU(),       \n",
        "            torch.nn.Linear(128, 13, bias=True),\n",
        "            torch.nn.Softmax(dim=-1)\n",
        "        )\n",
        "        self.actorD2 = torch.nn.Sequential(\n",
        "            torch.nn.Linear(256, 256, bias=True),\n",
        "            torch.nn.ReLU(),\n",
        "            torch.nn.Linear(256, 128, bias=True),\n",
        "            torch.nn.ReLU(),       \n",
        "            torch.nn.Linear(128, 6, bias=True),\n",
        "            torch.nn.Softmax(dim=-1)\n",
        "        )\n",
        "\n",
        "        if self.device == 'cuda':\n",
        "            self.actor.cuda()\n",
        "            self.actorC.cuda()\n",
        "            self.actorD1.cuda()\n",
        "            self.actorD2.cuda()\n",
        "        \n",
        "        self.register_parameter(name='lognu', param=torch.nn.Parameter(torch.tensor(0.1).to(device=self.device)))\n",
        "\n",
        "        self.optimizer = torch.optim.Adam(self.parameters(), lr=self.learning_rate)\n",
        "        # self.lr_sched = torch.optim.lr_scheduler.ReduceLROnPlateau(self.optimizer, mode='max', \n",
        "        #                                                            patience=200, factor=0.5, min_lr=0.0001, verbose=True)\n",
        "\n",
        "        # self.init_weights()\n",
        "\n",
        "    #Obtención de las probabilidades de las posibles acciones\n",
        "    def get_action(self, state):\n",
        "        state_t = torch.FloatTensor(featurize_state(state)).to(device=self.device)\n",
        "        tmp = self.actor(state_t)\n",
        "        \n",
        "        mu = self.actorC(tmp)\n",
        "        if torch.isnan(mu):\n",
        "            mu = torch.tensor(1.0, device=self.device)\n",
        "            print('nan mu')\n",
        "        nu = torch.clamp(self.lognu.exp(), 1e-3, 2)\n",
        "        \n",
        "        return torch.distributions.Normal(mu, nu),\\\n",
        "               torch.distributions.Categorical(self.actorD1(tmp)),\\\n",
        "               torch.distributions.Categorical(self.actorD2(tmp))\n",
        "\n",
        "    def init_weights(self):\n",
        "        self.actor.apply(self.init_weights_)\n",
        "\n",
        "    def init_weights_(self, m):\n",
        "        if isinstance(m, torch.nn.Linear):\n",
        "            torch.nn.init.xavier_uniform_(m.weight)\n",
        "            m.bias.data.fill_(pow(5., -0.5))"
      ],
      "outputs": [],
      "execution_count": 7,
      "metadata": {
        "id": "1tbKMQI-6-tU",
        "gather": {
          "logged": 1676477646367
        }
      }
    },
    {
      "cell_type": "code",
      "source": [
        "class AC_critic(torch.nn.Module):\n",
        "\n",
        "    def __init__(self, env, n_inputs, learning_rate=1e-3, device='cpu'):\n",
        "        \"\"\"\n",
        "        Critic ANN\n",
        "        \"\"\"\n",
        "        super(AC_critic, self).__init__()\n",
        "\n",
        "        self.n_inputs = n_inputs\n",
        "        self.learning_rate = learning_rate\n",
        "\n",
        "        if torch.cuda.is_available() and device=='cuda':\n",
        "            self.device = 'cuda'\n",
        "        else:\n",
        "            self.device = 'cpu'\n",
        "\n",
        "        self.learning_rate = learning_rate\n",
        "\n",
        "        # AC Critic\n",
        "        self.critic = torch.nn.Sequential(\n",
        "            torch.nn.Linear(self.n_inputs, 512, bias=True),\n",
        "            torch.nn.ReLU(),\n",
        "            torch.nn.Linear(512, 256, bias=True),\n",
        "            torch.nn.ReLU(),\n",
        "            torch.nn.Linear(256, 128, bias=True),\n",
        "            torch.nn.ReLU(),\n",
        "            torch.nn.Linear(128, 1, bias=True)\n",
        "        )\n",
        "\n",
        "        if self.device == 'cuda':\n",
        "            self.critic.cuda()\n",
        "        \n",
        "        self.optimizer = torch.optim.Adam(self.parameters(), lr=self.learning_rate)\n",
        "        # self.lr_sched = torch.optim.lr_scheduler.ReduceLROnPlateau(self.optimizer, mode='max', \n",
        "        #                                                            patience=200, factor=0.5, min_lr=0.00001)\n",
        "    \n",
        "    def get_val(self, state):\n",
        "        state_t = torch.FloatTensor(featurize_state(state)).to(device=self.device)\n",
        "        return self.critic(state_t)"
      ],
      "outputs": [],
      "execution_count": 8,
      "metadata": {
        "id": "pcVFk2oB-Idp",
        "gather": {
          "logged": 1676477646541
        }
      }
    },
    {
      "cell_type": "markdown",
      "source": [
        "\n",
        "### Definición del agente\n"
      ],
      "metadata": {
        "id": "1psxD6vR6-tV"
      }
    },
    {
      "cell_type": "code",
      "source": [
        "class ACAgent:\n",
        "\n",
        "    def __init__(self, env, dnnet_actor, dnnet_critic, nblock=100):\n",
        "        \"\"\"\n",
        "        Params\n",
        "        ======\n",
        "        env: entorno\n",
        "        dnnetwork: clase con la red neuronal diseñada\n",
        "        nblock: bloque de los X últimos episodios de los que se calculará la media de recompensa\n",
        "        reward_threshold: umbral de recompensa definido en el entorno\n",
        "        \"\"\"\n",
        "        self.env = env\n",
        "        self.dnnet_actor = dnnet_actor\n",
        "        self.dnnet_critic = dnnet_critic\n",
        "        self.device = dnnet_actor.device\n",
        "        self.nblock = nblock\n",
        "        self.reward_threshold = env.spec.reward_threshold\n",
        "        self.initialize()\n",
        "\n",
        "    def initialize(self):\n",
        "        self.losses = []\n",
        "        self.update_loss = []\n",
        "        self.training_rewards = []\n",
        "        self.mean_training_rewards = []\n",
        "    ######\n",
        "\n",
        "    ## Entrenamiento\n",
        "    def train(self, gamma=0.99, max_episodes=2000):\n",
        "        self.gamma = gamma\n",
        "\n",
        "        episode = 0\n",
        "        self.mean_rewards = -1000.0\n",
        "        self.maxRewards = 0.0\n",
        "        training = True\n",
        "        epsilon_max = 0.05\n",
        "        epsilon_min = 0.001\n",
        "        epsilon = epsilon_max\n",
        "        print(\"Training...\")\n",
        "        while training:\n",
        "            state0, data = env.reset(seed=200560)\n",
        "            actionAvail = data['actionAvail']\n",
        "            state0 = flat(env.observation_space, state0)\n",
        "            episode_rewards = []\n",
        "            gamedone = False\n",
        "            t = 0\n",
        "            I = 1\n",
        "            while gamedone == False:\n",
        "                cProb, d1Prob, d2Prob = self.dnnet_actor.get_action(state0)\n",
        "                cAction = cProb.sample()\n",
        "                cAction = torch.clamp(cAction, 0.1, 1.0)\n",
        "                #d1Prob = torch.distributions.Categorical(d1Prob.probs * torch.tensor(actionAvail[0], device=self.dnnet_actor.device))\n",
        "                #d2Prob = torch.distributions.Categorical(d2Prob.probs * torch.tensor(actionAvail[1], device=self.dnnet_actor.device))\n",
        "                if actionAvail[0].any():\n",
        "                    d1Prob.probs = d1Prob.probs * torch.tensor(actionAvail[0]+1E-5, device=self.dnnet_actor.device)\n",
        "                if actionAvail[1].any():\n",
        "                    d2Prob.probs = d2Prob.probs * torch.tensor(actionAvail[1]+1E-5, device=self.dnnet_actor.device)\n",
        "                d1Action = d1Prob.sample()\n",
        "                d2Action = d2Prob.sample()\n",
        "                if np.random.random() < epsilon:\n",
        "                    action = env.action_space.sample() # acción aleatoria\n",
        "                    while not (actionAvail[0][action['farmTanks'][0]] and actionAvail[1][action['farmTanks'][1]]): \n",
        "                        action = env.action_space.sample() # acción aleatoria\n",
        "                    d1Action = torch.tensor(action['farmTanks'][0], device=self.dnnet_actor.device, dtype=torch.int)\n",
        "                    d2Action = torch.tensor(action['farmTanks'][1], device=self.dnnet_actor.device, dtype=torch.int)\n",
        "                    action['unitFeed'] = np.array([cAction.item()])\n",
        "                    #cAction = torch.tensor(action['unitFeed'], device=self.dnnet_actor.device, dtype=torch.int)\n",
        "                else:\n",
        "                    action = OrderedDict({'farmTanks': np.array([d1Action.item(), d2Action.item()]),\n",
        "                                          'unitFeed': np.array([cAction.item()])})\n",
        "                \n",
        "                val = self.dnnet_critic.get_val(state0)\n",
        "                \n",
        "                prob_log = cProb.log_prob(cAction) + d1Prob.log_prob(d1Action) + d2Prob.log_prob(d2Action)\n",
        "\n",
        "                new_state, reward, gamedone, _, info = env.step(action)\n",
        "                actionAvail = info['actionAvail']\n",
        "                new_state = flat(env.observation_space, new_state)\n",
        "                \n",
        "                # Almacenamos experiencias que se van obteniendo en este episodio\n",
        "                episode_rewards.append(reward)\n",
        "                \n",
        "                reward_t = torch.tensor([reward], device=self.device, dtype=torch.float)\n",
        "                new_val = self.dnnet_critic.get_val(new_state)\n",
        "                #if terminal state, next state val is 0\n",
        "                if gamedone:\n",
        "                    new_val = torch.tensor([0], device=self.device, dtype=torch.float)\n",
        "                    #if t < 700:\n",
        "                    #    print(action, actionAvail)\n",
        "                \n",
        "                #calculate value function loss with MSE\n",
        "                advantage = reward_t + self.gamma * new_val - val\n",
        "                loss_critic = advantage.square()\n",
        "                loss_critic *= I\n",
        "                \n",
        "                #calculate policy loss\n",
        "                loss_actor = -prob_log * advantage.detach()\n",
        "                loss_actor *= I\n",
        "                \n",
        "#                 if t % 100 == 0:\n",
        "#                     print(cProb.log_prob(cAction), d1Prob.log_prob(d1Action), d2Prob.log_prob(d2Action))\n",
        "                \n",
        "                #Backpropagate policy\n",
        "                self.dnnet_actor.optimizer.zero_grad()\n",
        "                loss_actor.backward()\n",
        "                torch.nn.utils.clip_grad_value_(self.dnnet_actor.parameters(), 10.0) \n",
        "\n",
        "                #Backpropagate value\n",
        "                self.dnnet_critic.optimizer.zero_grad()\n",
        "                loss_critic.backward()\n",
        "                torch.nn.utils.clip_grad_value_(self.dnnet_critic.parameters(), 10.0) \n",
        "\n",
        "                nActor, nCritic = self.norm2()\n",
        "                if t > 0:\n",
        "                    nActorMean = (nActorMean*t+nActor)/(t+1)\n",
        "                    nCriticMean = (nCriticMean*t+nCritic)/(t+1)                    \n",
        "                else:\n",
        "                    nActorMean = nActor\n",
        "                    nCriticMean = nCritic\n",
        "                \n",
        "                self.dnnet_actor.optimizer.step()\n",
        "                # self.dnnet_actor.lr_sched.step(self.mean_rewards)\n",
        "\n",
        "                self.dnnet_critic.optimizer.step()\n",
        "                # self.dnnet_critic.lr_sched.step(self.mean_rewards)\n",
        "\n",
        "                state0 = deepcopy(new_state)\n",
        "                I *= self.gamma\n",
        "                t += 1\n",
        "                \n",
        "\n",
        "            episode += 1\n",
        "\n",
        "            self.training_rewards.append(sum(episode_rewards)) # guardamos las recompensas obtenidas\n",
        "            self.mean_rewards = np.mean(self.training_rewards[-self.nblock:])\n",
        "            self.mean_training_rewards.append(self.mean_rewards)\n",
        "\n",
        "            if self.training_rewards[-1] > self.maxRewards:\n",
        "                self.maxRewards = self.training_rewards[-1]\n",
        "                self.maxS = deepcopy(env.S)\n",
        "            \n",
        "            # Comprobamos que todavía quedan episodios\n",
        "            if episode >= max_episodes:\n",
        "                training = False\n",
        "                print('\\nEpisode limit reached.')\n",
        "                break\n",
        "\n",
        "            epsilon = max(epsilon*0.99, epsilon_min)\n",
        "\n",
        "            if episode > 100 and episode % 100 == 0:\n",
        "                self.plot_rewards()\n",
        "\n",
        "            print(\"\\rEpisode {:3d} Mean Rewards {:.2f} Last Reward {:.2f}  n_steps {:3d} Epsilon {:.3f} \"\n",
        "                \"nActor {:.3f} nCritic {:.3f}\\t\\t\".format(\n",
        "                episode, self.mean_rewards, np.mean(self.training_rewards[-1]), t, epsilon, \n",
        "                nActorMean, nCriticMean), end=\"\")\n",
        "\n",
        "            # Termina el juego si la media de recompensas ha llegado al umbral fijado para este juego\n",
        "            if self.mean_rewards >= self.reward_threshold and episode > self.nblock:\n",
        "                training = False\n",
        "                print('\\nEnvironment solved in {} episodes!'.format(\n",
        "                    episode))\n",
        "                break\n",
        "\n",
        "    def plot_rewards(self):\n",
        "       \n",
        "        IPython.display.clear_output(wait=True)\n",
        "\n",
        "        plt.figure(figsize=(12,8))\n",
        "        plt.plot(self.training_rewards, label='Rewards')\n",
        "        plt.plot(self.mean_training_rewards, label='Mean Rewards')\n",
        "        plt.axhline(self.env.spec.reward_threshold, color='r', label=\"Reward threshold\")\n",
        "        plt.xlabel('Episodes')\n",
        "        plt.ylabel('Rewards')\n",
        "        plt.legend(loc=\"upper left\")\n",
        "        plt.grid()\n",
        "        plt.show()\n",
        "\n",
        "    def norm2(self):\n",
        "        norm = lambda parameters : torch.norm(torch.stack([torch.norm(p.grad.detach(), 2) for p in parameters]), 2)\n",
        "        pActor = self.dnnet_actor.parameters()\n",
        "        pCritic = self.dnnet_critic.parameters()\n",
        "        return norm(pActor), norm(pCritic)\n",
        "        "
      ],
      "outputs": [],
      "execution_count": 48,
      "metadata": {
        "id": "e1iFeZ8T6-tV",
        "gather": {
          "logged": 1676479875131
        }
      }
    },
    {
      "cell_type": "markdown",
      "source": [
        "### Entrenamiento\n"
      ],
      "metadata": {
        "id": "eYRA7DMb6-tX"
      }
    },
    {
      "cell_type": "code",
      "source": [
        "lr_actor = 5.E-5     #Velocidad de aprendizaje   0.005\n",
        "lr_critic = 5.E-4    #Velocidad de aprendizaje   0.005\n",
        "GAMMA = 0.99         #Valor gamma de la ecuación de Bellman\n",
        "NBLOCK = 100         #Número de steps para rellenar el buffer\n",
        "MAX_EPISODES = 5000  #Número máximo de episodios (el agente debe aprender antes de llegar a este valor)"
      ],
      "outputs": [],
      "execution_count": 59,
      "metadata": {
        "id": "iL8iV_kM6-tX",
        "gather": {
          "logged": 1676480725393
        }
      }
    },
    {
      "cell_type": "code",
      "source": [
        "ACa = AC_actor(env, 512, learning_rate=lr_actor, device='cuda')"
      ],
      "outputs": [],
      "execution_count": 60,
      "metadata": {
        "id": "UTAxECge6-tX",
        "gather": {
          "logged": 1676480725610
        }
      }
    },
    {
      "cell_type": "code",
      "source": [
        "ACc = AC_critic(env, 512, learning_rate=lr_critic, device='cuda')"
      ],
      "outputs": [],
      "execution_count": 61,
      "metadata": {
        "id": "ctVGWP0tAxGK",
        "gather": {
          "logged": 1676480725881
        }
      }
    },
    {
      "cell_type": "code",
      "source": [
        "AC_agent = ACAgent(env, ACa, ACc, NBLOCK)"
      ],
      "outputs": [],
      "execution_count": 62,
      "metadata": {
        "id": "4OEDtMh06-tX",
        "gather": {
          "logged": 1676480726099
        }
      }
    },
    {
      "cell_type": "code",
      "source": [
        "%%time\n",
        "\n",
        "AC_agent.train(gamma=GAMMA, max_episodes=MAX_EPISODES)"
      ],
      "outputs": [
        {
          "output_type": "display_data",
          "data": {
            "text/plain": "<Figure size 864x576 with 1 Axes>",
            "image/png": "[encoded data removed]"
          },
          "metadata": {
            "needs_background": "light"
          }
        },
        {
          "output_type": "stream",
          "name": "stdout",
          "text": "Episode 318 Mean Rewards 105.05 Last Reward 128.22  n_steps 220 Epsilon 0.002 nActor 2.118 nCritic 0.582\t\t"
        }
      ],
      "execution_count": null,
      "metadata": {
        "colab": {
          "base_uri": "https://localhost:8080/",
          "height": 570
        },
        "id": "uEZfeX5A6-tY",
        "outputId": "af00d6ad-09e8-4084-bb94-6dabfe3f9835"
      }
    },
    {
      "cell_type": "code",
      "source": [
        "np.array([False, True, False]) + 1E-5"
      ],
      "outputs": [
        {
          "output_type": "execute_result",
          "execution_count": 41,
          "data": {
            "text/plain": "array([1.00000e-05, 1.00001e+00, 1.00000e-05])"
          },
          "metadata": {}
        }
      ],
      "execution_count": 41,
      "metadata": {
        "jupyter": {
          "source_hidden": false,
          "outputs_hidden": false
        },
        "nteract": {
          "transient": {
            "deleting": false
          }
        },
        "gather": {
          "logged": 1676479747756
        }
      }
    },
    {
      "cell_type": "code",
      "source": [
        "AC_agent.maxS.render()"
      ],
      "outputs": [],
      "execution_count": null,
      "metadata": {
        "gather": {
          "logged": 1676478954238
        }
      }
    },
    {
      "cell_type": "code",
      "source": [
        "AC_agent.maxS.prodsLog[300]"
      ],
      "outputs": [],
      "execution_count": null,
      "metadata": {
        "jupyter": {
          "source_hidden": false,
          "outputs_hidden": false
        },
        "nteract": {
          "transient": {
            "deleting": false
          }
        },
        "gather": {
          "logged": 1676478954254
        }
      }
    },
    {
      "cell_type": "code",
      "source": [
        "AC_agent.plot_rewards()"
      ],
      "outputs": [],
      "execution_count": null,
      "metadata": {
        "colab": {
          "base_uri": "https://localhost:8080/",
          "height": 497
        },
        "id": "M0MQcI2Q6-tY",
        "outputId": "c4b48a88-5eca-4123-90b4-131eca6ed810",
        "gather": {
          "logged": 1676478954268
        }
      }
    },
    {
      "cell_type": "code",
      "source": [
        "myfile = 'agentACDT_Trained_Model.pth'\n",
        "if os.path.isfile(myfile):\n",
        "    os.remove(myfile)\n",
        "torch.save(ACa.state_dict(), myfile)"
      ],
      "outputs": [],
      "execution_count": null,
      "metadata": {
        "id": "V1uA1JgE6-tZ",
        "gather": {
          "logged": 1676478954281
        }
      }
    },
    {
      "cell_type": "code",
      "source": [
        "%%time\n",
        "\n",
        "env = gym.envs.make(\"crudeTanksEnv-v0\")\n",
        "\n",
        "AC = AC_actor(env, 512, learning_rate=0.005, device='cuda')\n",
        "AC.load_state_dict(torch.load(myfile))\n",
        "\n",
        "state0 = flat(env.observation_space, env.reset()[0])\n",
        "done = False\n",
        "episode_reward = 0\n",
        "n = 0\n",
        "action_list = []\n",
        "while not done:\n",
        "    cProb, d1Prob, d2Prob = AC.get_action(state0)\n",
        "    cAction = cProb.sample()\n",
        "    cAction = torch.clamp(cAction, min=0.0, max=1.0)\n",
        "    d1Action = d1Prob.sample()\n",
        "    d2Action = d2Prob.sample()\n",
        "    action = OrderedDict({'farmTanks': np.array([d1Action.item(), d2Action.item()]),\n",
        "                          'unitFeed': np.array([cAction.item()])})\n",
        "    state, reward, done, _, _ = env.step(action)\n",
        "    state = flat(env.observation_space, state)\n",
        "    episode_reward += reward\n",
        "    n += 1\n",
        "    state0 = deepcopy(state)\n",
        "    if n >= env.spec.max_episode_steps:\n",
        "        done = True\n",
        "\n",
        "print('n: {:4d}   reward: {:4.2f}'.format(n, episode_reward))\n",
        "env.render()\n",
        "print('\\n')"
      ],
      "outputs": [],
      "execution_count": null,
      "metadata": {
        "colab": {
          "base_uri": "https://localhost:8080/"
        },
        "id": "z2iikyMV6-tZ",
        "outputId": "11179bc9-eff6-4047-b78c-a42a2dbea1d8",
        "scrolled": false
      }
    },
    {
      "cell_type": "code",
      "source": [
        "list(AC.parameters())"
      ],
      "outputs": [],
      "execution_count": null,
      "metadata": {
        "gather": {
          "logged": 1676478954303
        }
      }
    },
    {
      "cell_type": "code",
      "source": [
        "%%time\n",
        "\n",
        "env = gym.envs.make(\"crudeTanksEnv-v0\")\n",
        "\n",
        "AC = AC_actor(env, 512, learning_rate=0.005, device='cuda')\n",
        "AC.load_state_dict(torch.load(myfile))\n",
        "\n",
        "reward_list = []\n",
        "n_list = []\n",
        "for n_episodes in range(20):\n",
        "    state0 = flat(env.observation_space, env.reset()[0])\n",
        "    done = False\n",
        "    episode_reward = 0\n",
        "    n = 0\n",
        "    action_list = []\n",
        "    while not done:\n",
        "        cProb, d1Prob, d2Prob = AC.get_action(state0)\n",
        "        cAction = cProb.sample()\n",
        "        d1Action = d1Prob.sample()\n",
        "        d2Action = d2Prob.sample()\n",
        "        action = OrderedDict({'farmTanks': np.array([d1Action.item(), d2Action.item()]),\n",
        "                              'unitFeed': np.array([cAction.item()])})\n",
        "        state, reward, done, _, _ = env.step(action)\n",
        "        state = flat(env.observation_space, state)\n",
        "        episode_reward += reward\n",
        "        n += 1\n",
        "        state0 = deepcopy(state)\n",
        "        if n >= env.spec.max_episode_steps:\n",
        "            done = True\n",
        "\n",
        "    print('{:2d} n: {:4d}   reward: {:4.2f}'.format(n_episodes+1, n, episode_reward))\n",
        "    reward_list.append(episode_reward)\n",
        "print('\\n')"
      ],
      "outputs": [],
      "execution_count": null,
      "metadata": {
        "colab": {
          "base_uri": "https://localhost:8080/"
        },
        "id": "z2iikyMV6-tZ",
        "outputId": "11179bc9-eff6-4047-b78c-a42a2dbea1d8"
      }
    },
    {
      "cell_type": "code",
      "source": [
        "fig, ax = plt.subplots(figsize=(12, 5))\n",
        "\n",
        "fig.suptitle('Recompensa de 20 partidas con el modelo ajustado')\n",
        "\n",
        "ax.plot(reward_list)\n",
        "ax.axhline(y=env.spec.reward_threshold, color='r', linestyle='-')\n",
        "ax.set_xlabel('suma de recompensas de cada partida')\n",
        "ax.set_xticks(range(20))\n",
        "ax.grid()\n",
        "\n",
        "plt.show()"
      ],
      "outputs": [],
      "execution_count": null,
      "metadata": {
        "colab": {
          "base_uri": "https://localhost:8080/",
          "height": 370
        },
        "id": "HDEwTRct6-tZ",
        "outputId": "93f331cd-fd04-457e-de5b-efca077061bf",
        "gather": {
          "logged": 1676478954323
        }
      }
    }
  ],
  "metadata": {
    "accelerator": "GPU",
    "colab": {
      "provenance": []
    },
    "gpuClass": "standard",
    "kernelspec": {
      "name": "python38-azureml-pt-tf",
      "language": "python",
      "display_name": "Python 3.8 - Pytorch and Tensorflow"
    },
    "language_info": {
      "name": "python",
      "version": "3.8.5",
      "mimetype": "text/x-python",
      "codemirror_mode": {
        "name": "ipython",
        "version": 3
      },
      "pygments_lexer": "ipython3",
      "nbconvert_exporter": "python",
      "file_extension": ".py"
    },
    "kernel_info": {
      "name": "python38-azureml-pt-tf"
    },
    "nteract": {
      "version": "nteract-front-end@1.0.0"
    },
    "microsoft": {
      "host": {
        "AzureML": {
          "notebookHasBeenCompleted": true
        }
      }
    }
  },
  "nbformat": 4,
  "nbformat_minor": 1
}